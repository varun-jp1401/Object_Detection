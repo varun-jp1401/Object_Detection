{
 "cells": [
  {
   "cell_type": "code",
   "execution_count": 8,
   "id": "c0d8701d-7f76-43fb-a936-053e39ea82b2",
   "metadata": {},
   "outputs": [
    {
     "name": "stdout",
     "output_type": "stream",
     "text": [
      "Conversion complete! Check 'labels/train/' for YOLO TXT files.\n"
     ]
    }
   ],
   "source": [
    "import os\n",
    "import glob\n",
    "import xml.etree.ElementTree as ET\n",
    "\n",
    "# Define paths\n",
    "ANNOTATIONS_PATH = \"annotations/train\"  # Change to \"annotations/test\" for test set\n",
    "LABELS_PATH = \"labels/train\"  # Change to \"labels/test\" for test set\n",
    "os.makedirs(LABELS_PATH, exist_ok=True)\n",
    "\n",
    "# Define class labels\n",
    "CLASS_NAMES = [\"ThumbsUp\", \"ThumbsDown\", \"ThankYou\", \"LiveLong\"]  # Update with your class names\n",
    "\n",
    "# Function to convert XML to YOLO\n",
    "def convert_voc_to_yolo(xml_file):\n",
    "    tree = ET.parse(xml_file)\n",
    "    root = tree.getroot()\n",
    "    \n",
    "    img_width = int(root.find(\"size/width\").text)\n",
    "    img_height = int(root.find(\"size/height\").text)\n",
    "\n",
    "    filename = os.path.splitext(root.find(\"filename\").text)[0]  # Remove .jpg/.png\n",
    "    label_file_path = os.path.join(LABELS_PATH, f\"{filename}.txt\")\n",
    "\n",
    "    with open(label_file_path, \"w\") as label_file:\n",
    "        for obj in root.findall(\"object\"):\n",
    "            class_name = obj.find(\"name\").text\n",
    "            if class_name not in CLASS_NAMES:\n",
    "                continue  # Skip if class is not in list\n",
    "            \n",
    "            class_id = CLASS_NAMES.index(class_name)  # Get class index\n",
    "            bbox = obj.find(\"bndbox\")\n",
    "            xmin = int(bbox.find(\"xmin\").text)\n",
    "            ymin = int(bbox.find(\"ymin\").text)\n",
    "            xmax = int(bbox.find(\"xmax\").text)\n",
    "            ymax = int(bbox.find(\"ymax\").text)\n",
    "\n",
    "            # Convert to YOLO format (x_center, y_center, width, height) normalized\n",
    "            x_center = (xmin + xmax) / (2 * img_width)\n",
    "            y_center = (ymin + ymax) / (2 * img_height)\n",
    "            width = (xmax - xmin) / img_width\n",
    "            height = (ymax - ymin) / img_height\n",
    "\n",
    "            label_file.write(f\"{class_id} {x_center} {y_center} {width} {height}\\n\")\n",
    "\n",
    "# Convert all XML files\n",
    "xml_files = glob.glob(os.path.join(ANNOTATIONS_PATH, \"*.xml\"))\n",
    "for xml_file in xml_files:\n",
    "    convert_voc_to_yolo(xml_file)\n",
    "\n",
    "print(\"Conversion complete! Check 'labels/train/' for YOLO TXT files.\")\n"
   ]
  },
  {
   "cell_type": "code",
   "execution_count": 9,
   "id": "63b6efb1-a2b3-43e5-a036-48a2c42b5520",
   "metadata": {},
   "outputs": [
    {
     "name": "stdout",
     "output_type": "stream",
     "text": [
      "YOLOv8 is ready!\n"
     ]
    }
   ],
   "source": [
    "from ultralytics import YOLO\n",
    "print(\"YOLOv8 is ready!\")\n"
   ]
  },
  {
   "cell_type": "code",
   "execution_count": 10,
   "id": "e06179fb-20e0-4dd5-9261-5d5f159ccb63",
   "metadata": {},
   "outputs": [
    {
     "name": "stdout",
     "output_type": "stream",
     "text": [
      "Ultralytics 8.3.82  Python-3.9.21 torch-2.6.0+cpu CPU (11th Gen Intel Core(TM) i5-1135G7 2.40GHz)\n",
      "\u001b[34m\u001b[1mengine\\trainer: \u001b[0mtask=detect, mode=train, model=yolov8n.pt, data=dataset.yaml, epochs=50, time=None, patience=100, batch=8, imgsz=640, save=True, save_period=-1, cache=False, device=cpu, workers=2, project=None, name=train4, exist_ok=False, pretrained=True, optimizer=auto, verbose=True, seed=0, deterministic=True, single_cls=False, rect=False, cos_lr=False, close_mosaic=10, resume=False, amp=True, fraction=1.0, profile=False, freeze=None, multi_scale=False, overlap_mask=True, mask_ratio=4, dropout=0.0, val=True, split=val, save_json=False, save_hybrid=False, conf=None, iou=0.7, max_det=300, half=False, dnn=False, plots=True, source=None, vid_stride=1, stream_buffer=False, visualize=False, augment=False, agnostic_nms=False, classes=None, retina_masks=False, embed=None, show=False, save_frames=False, save_txt=False, save_conf=False, save_crop=False, show_labels=True, show_conf=True, show_boxes=True, line_width=None, format=torchscript, keras=False, optimize=False, int8=False, dynamic=False, simplify=True, opset=None, workspace=None, nms=False, lr0=0.01, lrf=0.01, momentum=0.937, weight_decay=0.0005, warmup_epochs=3.0, warmup_momentum=0.8, warmup_bias_lr=0.1, box=7.5, cls=0.5, dfl=1.5, pose=12.0, kobj=1.0, nbs=64, hsv_h=0.015, hsv_s=0.7, hsv_v=0.4, degrees=0.0, translate=0.1, scale=0.5, shear=0.0, perspective=0.0, flipud=0.0, fliplr=0.5, bgr=0.0, mosaic=1.0, mixup=0.0, copy_paste=0.0, copy_paste_mode=flip, auto_augment=randaugment, erasing=0.4, crop_fraction=1.0, cfg=None, tracker=botsort.yaml, save_dir=runs\\detect\\train4\n",
      "Downloading https://ultralytics.com/assets/Arial.ttf to 'C:\\Users\\varun\\AppData\\Roaming\\Ultralytics\\Arial.ttf'...\n"
     ]
    },
    {
     "name": "stderr",
     "output_type": "stream",
     "text": [
      "100%|███████████████████████████████████████████████████████████████████████████████| 755k/755k [00:00<00:00, 6.65MB/s]"
     ]
    },
    {
     "name": "stdout",
     "output_type": "stream",
     "text": [
      "Overriding model.yaml nc=80 with nc=4\n",
      "\n",
      "                   from  n    params  module                                       arguments                     \n"
     ]
    },
    {
     "name": "stderr",
     "output_type": "stream",
     "text": [
      "\n"
     ]
    },
    {
     "name": "stdout",
     "output_type": "stream",
     "text": [
      "  0                  -1  1       464  ultralytics.nn.modules.conv.Conv             [3, 16, 3, 2]                 \n",
      "  1                  -1  1      4672  ultralytics.nn.modules.conv.Conv             [16, 32, 3, 2]                \n",
      "  2                  -1  1      7360  ultralytics.nn.modules.block.C2f             [32, 32, 1, True]             \n",
      "  3                  -1  1     18560  ultralytics.nn.modules.conv.Conv             [32, 64, 3, 2]                \n",
      "  4                  -1  2     49664  ultralytics.nn.modules.block.C2f             [64, 64, 2, True]             \n",
      "  5                  -1  1     73984  ultralytics.nn.modules.conv.Conv             [64, 128, 3, 2]               \n",
      "  6                  -1  2    197632  ultralytics.nn.modules.block.C2f             [128, 128, 2, True]           \n",
      "  7                  -1  1    295424  ultralytics.nn.modules.conv.Conv             [128, 256, 3, 2]              \n",
      "  8                  -1  1    460288  ultralytics.nn.modules.block.C2f             [256, 256, 1, True]           \n",
      "  9                  -1  1    164608  ultralytics.nn.modules.block.SPPF            [256, 256, 5]                 \n",
      " 10                  -1  1         0  torch.nn.modules.upsampling.Upsample         [None, 2, 'nearest']          \n",
      " 11             [-1, 6]  1         0  ultralytics.nn.modules.conv.Concat           [1]                           \n",
      " 12                  -1  1    148224  ultralytics.nn.modules.block.C2f             [384, 128, 1]                 \n",
      " 13                  -1  1         0  torch.nn.modules.upsampling.Upsample         [None, 2, 'nearest']          \n",
      " 14             [-1, 4]  1         0  ultralytics.nn.modules.conv.Concat           [1]                           \n",
      " 15                  -1  1     37248  ultralytics.nn.modules.block.C2f             [192, 64, 1]                  \n",
      " 16                  -1  1     36992  ultralytics.nn.modules.conv.Conv             [64, 64, 3, 2]                \n",
      " 17            [-1, 12]  1         0  ultralytics.nn.modules.conv.Concat           [1]                           \n",
      " 18                  -1  1    123648  ultralytics.nn.modules.block.C2f             [192, 128, 1]                 \n",
      " 19                  -1  1    147712  ultralytics.nn.modules.conv.Conv             [128, 128, 3, 2]              \n",
      " 20             [-1, 9]  1         0  ultralytics.nn.modules.conv.Concat           [1]                           \n",
      " 21                  -1  1    493056  ultralytics.nn.modules.block.C2f             [384, 256, 1]                 \n",
      " 22        [15, 18, 21]  1    752092  ultralytics.nn.modules.head.Detect           [4, [64, 128, 256]]           \n",
      "Model summary: 129 layers, 3,011,628 parameters, 3,011,612 gradients, 8.2 GFLOPs\n",
      "\n",
      "Transferred 319/355 items from pretrained weights\n",
      "Freezing layer 'model.22.dfl.conv.weight'\n"
     ]
    },
    {
     "name": "stderr",
     "output_type": "stream",
     "text": [
      "\u001b[34m\u001b[1mtrain: \u001b[0mScanning C:\\Users\\varun\\workspace\\labels\\train... 15 images, 0 backgrounds, 0 corrupt: 100%|██████████| 15/15 [0\u001b[0m"
     ]
    },
    {
     "name": "stdout",
     "output_type": "stream",
     "text": [
      "\u001b[34m\u001b[1mtrain: \u001b[0mNew cache created: C:\\Users\\varun\\workspace\\labels\\train.cache\n"
     ]
    },
    {
     "name": "stderr",
     "output_type": "stream",
     "text": [
      "\n",
      "\u001b[34m\u001b[1mval: \u001b[0mScanning C:\\Users\\varun\\workspace\\labels\\test... 4 images, 0 backgrounds, 0 corrupt: 100%|██████████| 4/4 [00:00<0\u001b[0m"
     ]
    },
    {
     "name": "stdout",
     "output_type": "stream",
     "text": [
      "\u001b[34m\u001b[1mval: \u001b[0mNew cache created: C:\\Users\\varun\\workspace\\labels\\test.cache\n"
     ]
    },
    {
     "name": "stderr",
     "output_type": "stream",
     "text": [
      "\n"
     ]
    },
    {
     "name": "stdout",
     "output_type": "stream",
     "text": [
      "Plotting labels to runs\\detect\\train4\\labels.jpg... \n",
      "\u001b[34m\u001b[1moptimizer:\u001b[0m 'optimizer=auto' found, ignoring 'lr0=0.01' and 'momentum=0.937' and determining best 'optimizer', 'lr0' and 'momentum' automatically... \n",
      "\u001b[34m\u001b[1moptimizer:\u001b[0m AdamW(lr=0.00125, momentum=0.9) with parameter groups 57 weight(decay=0.0), 64 weight(decay=0.0005), 63 bias(decay=0.0)\n",
      "Image sizes 640 train, 640 val\n",
      "Using 0 dataloader workers\n",
      "Logging results to \u001b[1mruns\\detect\\train4\u001b[0m\n",
      "Starting training for 50 epochs...\n",
      "\n",
      "      Epoch    GPU_mem   box_loss   cls_loss   dfl_loss  Instances       Size\n"
     ]
    },
    {
     "name": "stderr",
     "output_type": "stream",
     "text": [
      "       1/50         0G      1.488      3.934      1.684         15        640: 100%|██████████| 2/2 [00:17<00:00,  8.73\n",
      "                 Class     Images  Instances      Box(P          R      mAP50  mAP50-95): 100%|██████████| 1/1 [00:03<0"
     ]
    },
    {
     "name": "stdout",
     "output_type": "stream",
     "text": [
      "                   all          4          4    0.00345          1      0.271      0.183\n"
     ]
    },
    {
     "name": "stderr",
     "output_type": "stream",
     "text": [
      "\n"
     ]
    },
    {
     "name": "stdout",
     "output_type": "stream",
     "text": [
      "\n",
      "      Epoch    GPU_mem   box_loss   cls_loss   dfl_loss  Instances       Size\n"
     ]
    },
    {
     "name": "stderr",
     "output_type": "stream",
     "text": [
      "       2/50         0G      1.375      3.983      1.501          9        640: 100%|██████████| 2/2 [00:09<00:00,  4.95\n",
      "                 Class     Images  Instances      Box(P          R      mAP50  mAP50-95): 100%|██████████| 1/1 [00:00<0"
     ]
    },
    {
     "name": "stdout",
     "output_type": "stream",
     "text": [
      "                   all          4          4    0.00343          1      0.281       0.16\n"
     ]
    },
    {
     "name": "stderr",
     "output_type": "stream",
     "text": [
      "\n"
     ]
    },
    {
     "name": "stdout",
     "output_type": "stream",
     "text": [
      "\n",
      "      Epoch    GPU_mem   box_loss   cls_loss   dfl_loss  Instances       Size\n"
     ]
    },
    {
     "name": "stderr",
     "output_type": "stream",
     "text": [
      "       3/50         0G      1.197      3.681      1.343         20        640: 100%|██████████| 2/2 [00:08<00:00,  4.44\n",
      "                 Class     Images  Instances      Box(P          R      mAP50  mAP50-95): 100%|██████████| 1/1 [00:01<0"
     ]
    },
    {
     "name": "stdout",
     "output_type": "stream",
     "text": [
      "                   all          4          4    0.00339          1      0.329      0.185\n"
     ]
    },
    {
     "name": "stderr",
     "output_type": "stream",
     "text": [
      "\n"
     ]
    },
    {
     "name": "stdout",
     "output_type": "stream",
     "text": [
      "\n",
      "      Epoch    GPU_mem   box_loss   cls_loss   dfl_loss  Instances       Size\n"
     ]
    },
    {
     "name": "stderr",
     "output_type": "stream",
     "text": [
      "       4/50         0G      1.054      3.882      1.277         13        640: 100%|██████████| 2/2 [00:08<00:00,  4.11\n",
      "                 Class     Images  Instances      Box(P          R      mAP50  mAP50-95): 100%|██████████| 1/1 [00:00<0"
     ]
    },
    {
     "name": "stdout",
     "output_type": "stream",
     "text": [
      "                   all          4          4    0.00337          1      0.547      0.371\n"
     ]
    },
    {
     "name": "stderr",
     "output_type": "stream",
     "text": [
      "\n"
     ]
    },
    {
     "name": "stdout",
     "output_type": "stream",
     "text": [
      "\n",
      "      Epoch    GPU_mem   box_loss   cls_loss   dfl_loss  Instances       Size\n"
     ]
    },
    {
     "name": "stderr",
     "output_type": "stream",
     "text": [
      "       5/50         0G     0.8746      3.532      1.101         13        640: 100%|██████████| 2/2 [00:06<00:00,  3.14\n",
      "                 Class     Images  Instances      Box(P          R      mAP50  mAP50-95): 100%|██████████| 1/1 [00:00<0"
     ]
    },
    {
     "name": "stdout",
     "output_type": "stream",
     "text": [
      "                   all          4          4    0.00338          1      0.622      0.452\n"
     ]
    },
    {
     "name": "stderr",
     "output_type": "stream",
     "text": [
      "\n"
     ]
    },
    {
     "name": "stdout",
     "output_type": "stream",
     "text": [
      "\n",
      "      Epoch    GPU_mem   box_loss   cls_loss   dfl_loss  Instances       Size\n"
     ]
    },
    {
     "name": "stderr",
     "output_type": "stream",
     "text": [
      "       6/50         0G     0.9095       3.56       1.14         12        640: 100%|██████████| 2/2 [00:07<00:00,  3.94\n",
      "                 Class     Images  Instances      Box(P          R      mAP50  mAP50-95): 100%|██████████| 1/1 [00:00<0"
     ]
    },
    {
     "name": "stdout",
     "output_type": "stream",
     "text": [
      "                   all          4          4    0.00339          1      0.871      0.585\n"
     ]
    },
    {
     "name": "stderr",
     "output_type": "stream",
     "text": [
      "\n"
     ]
    },
    {
     "name": "stdout",
     "output_type": "stream",
     "text": [
      "\n",
      "      Epoch    GPU_mem   box_loss   cls_loss   dfl_loss  Instances       Size\n"
     ]
    },
    {
     "name": "stderr",
     "output_type": "stream",
     "text": [
      "       7/50         0G      0.812      3.349      1.076         14        640: 100%|██████████| 2/2 [00:06<00:00,  3.31\n",
      "                 Class     Images  Instances      Box(P          R      mAP50  mAP50-95): 100%|██████████| 1/1 [00:00<0"
     ]
    },
    {
     "name": "stdout",
     "output_type": "stream",
     "text": [
      "                   all          4          4    0.00339          1      0.829      0.599\n"
     ]
    },
    {
     "name": "stderr",
     "output_type": "stream",
     "text": [
      "\n"
     ]
    },
    {
     "name": "stdout",
     "output_type": "stream",
     "text": [
      "\n",
      "      Epoch    GPU_mem   box_loss   cls_loss   dfl_loss  Instances       Size\n"
     ]
    },
    {
     "name": "stderr",
     "output_type": "stream",
     "text": [
      "       8/50         0G      0.947      3.375      1.153         12        640: 100%|██████████| 2/2 [00:13<00:00,  6.64\n",
      "                 Class     Images  Instances      Box(P          R      mAP50  mAP50-95): 100%|██████████| 1/1 [00:00<0"
     ]
    },
    {
     "name": "stdout",
     "output_type": "stream",
     "text": [
      "                   all          4          4    0.00339          1      0.684      0.534\n"
     ]
    },
    {
     "name": "stderr",
     "output_type": "stream",
     "text": [
      "\n"
     ]
    },
    {
     "name": "stdout",
     "output_type": "stream",
     "text": [
      "\n",
      "      Epoch    GPU_mem   box_loss   cls_loss   dfl_loss  Instances       Size\n"
     ]
    },
    {
     "name": "stderr",
     "output_type": "stream",
     "text": [
      "       9/50         0G     0.8722      3.277      1.221         10        640: 100%|██████████| 2/2 [00:09<00:00,  4.52\n",
      "                 Class     Images  Instances      Box(P          R      mAP50  mAP50-95): 100%|██████████| 1/1 [00:00<0"
     ]
    },
    {
     "name": "stdout",
     "output_type": "stream",
     "text": [
      "                   all          4          4    0.00341          1      0.829      0.647\n"
     ]
    },
    {
     "name": "stderr",
     "output_type": "stream",
     "text": [
      "\n"
     ]
    },
    {
     "name": "stdout",
     "output_type": "stream",
     "text": [
      "\n",
      "      Epoch    GPU_mem   box_loss   cls_loss   dfl_loss  Instances       Size\n"
     ]
    },
    {
     "name": "stderr",
     "output_type": "stream",
     "text": [
      "      10/50         0G     0.9203      3.143      1.161         13        640: 100%|██████████| 2/2 [00:06<00:00,  3.31\n",
      "                 Class     Images  Instances      Box(P          R      mAP50  mAP50-95): 100%|██████████| 1/1 [00:00<0"
     ]
    },
    {
     "name": "stdout",
     "output_type": "stream",
     "text": [
      "                   all          4          4    0.00344          1      0.871      0.709\n"
     ]
    },
    {
     "name": "stderr",
     "output_type": "stream",
     "text": [
      "\n"
     ]
    },
    {
     "name": "stdout",
     "output_type": "stream",
     "text": [
      "\n",
      "      Epoch    GPU_mem   box_loss   cls_loss   dfl_loss  Instances       Size\n"
     ]
    },
    {
     "name": "stderr",
     "output_type": "stream",
     "text": [
      "      11/50         0G     0.6532      2.721      0.995         11        640: 100%|██████████| 2/2 [00:05<00:00,  2.82\n",
      "                 Class     Images  Instances      Box(P          R      mAP50  mAP50-95): 100%|██████████| 1/1 [00:00<0"
     ]
    },
    {
     "name": "stdout",
     "output_type": "stream",
     "text": [
      "                   all          4          4    0.00351          1      0.871      0.784\n"
     ]
    },
    {
     "name": "stderr",
     "output_type": "stream",
     "text": [
      "\n"
     ]
    },
    {
     "name": "stdout",
     "output_type": "stream",
     "text": [
      "\n",
      "      Epoch    GPU_mem   box_loss   cls_loss   dfl_loss  Instances       Size\n"
     ]
    },
    {
     "name": "stderr",
     "output_type": "stream",
     "text": [
      "      12/50         0G     0.8641      2.571      1.123         20        640: 100%|██████████| 2/2 [00:05<00:00,  2.57\n",
      "                 Class     Images  Instances      Box(P          R      mAP50  mAP50-95): 100%|██████████| 1/1 [00:00<0"
     ]
    },
    {
     "name": "stdout",
     "output_type": "stream",
     "text": [
      "                   all          4          4    0.00351          1      0.871      0.784\n"
     ]
    },
    {
     "name": "stderr",
     "output_type": "stream",
     "text": [
      "\n"
     ]
    },
    {
     "name": "stdout",
     "output_type": "stream",
     "text": [
      "\n",
      "      Epoch    GPU_mem   box_loss   cls_loss   dfl_loss  Instances       Size\n"
     ]
    },
    {
     "name": "stderr",
     "output_type": "stream",
     "text": [
      "      13/50         0G     0.8713      2.434      1.065         17        640: 100%|██████████| 2/2 [00:05<00:00,  2.78\n",
      "                 Class     Images  Instances      Box(P          R      mAP50  mAP50-95): 100%|██████████| 1/1 [00:00<0"
     ]
    },
    {
     "name": "stdout",
     "output_type": "stream",
     "text": [
      "                   all          4          4     0.0036          1      0.871      0.808\n"
     ]
    },
    {
     "name": "stderr",
     "output_type": "stream",
     "text": [
      "\n"
     ]
    },
    {
     "name": "stdout",
     "output_type": "stream",
     "text": [
      "\n",
      "      Epoch    GPU_mem   box_loss   cls_loss   dfl_loss  Instances       Size\n"
     ]
    },
    {
     "name": "stderr",
     "output_type": "stream",
     "text": [
      "      14/50         0G     0.6915      2.501      0.992          9        640: 100%|██████████| 2/2 [00:07<00:00,  3.50\n",
      "                 Class     Images  Instances      Box(P          R      mAP50  mAP50-95): 100%|██████████| 1/1 [00:00<0"
     ]
    },
    {
     "name": "stdout",
     "output_type": "stream",
     "text": [
      "                   all          4          4    0.00363          1      0.871      0.784\n"
     ]
    },
    {
     "name": "stderr",
     "output_type": "stream",
     "text": [
      "\n"
     ]
    },
    {
     "name": "stdout",
     "output_type": "stream",
     "text": [
      "\n",
      "      Epoch    GPU_mem   box_loss   cls_loss   dfl_loss  Instances       Size\n"
     ]
    },
    {
     "name": "stderr",
     "output_type": "stream",
     "text": [
      "      15/50         0G     0.8274      2.208      1.075         13        640: 100%|██████████| 2/2 [00:06<00:00,  3.43\n",
      "                 Class     Images  Instances      Box(P          R      mAP50  mAP50-95): 100%|██████████| 1/1 [00:00<0"
     ]
    },
    {
     "name": "stdout",
     "output_type": "stream",
     "text": [
      "                   all          4          4    0.00363          1      0.871      0.784\n"
     ]
    },
    {
     "name": "stderr",
     "output_type": "stream",
     "text": [
      "\n"
     ]
    },
    {
     "name": "stdout",
     "output_type": "stream",
     "text": [
      "\n",
      "      Epoch    GPU_mem   box_loss   cls_loss   dfl_loss  Instances       Size\n"
     ]
    },
    {
     "name": "stderr",
     "output_type": "stream",
     "text": [
      "      16/50         0G     0.6916      1.873     0.9951         19        640: 100%|██████████| 2/2 [00:07<00:00,  3.57\n",
      "                 Class     Images  Instances      Box(P          R      mAP50  mAP50-95): 100%|██████████| 1/1 [00:00<0"
     ]
    },
    {
     "name": "stdout",
     "output_type": "stream",
     "text": [
      "                   all          4          4      0.694       0.75      0.871      0.734\n"
     ]
    },
    {
     "name": "stderr",
     "output_type": "stream",
     "text": [
      "\n"
     ]
    },
    {
     "name": "stdout",
     "output_type": "stream",
     "text": [
      "\n",
      "      Epoch    GPU_mem   box_loss   cls_loss   dfl_loss  Instances       Size\n"
     ]
    },
    {
     "name": "stderr",
     "output_type": "stream",
     "text": [
      "      17/50         0G     0.7427      1.788      1.035         16        640: 100%|██████████| 2/2 [00:07<00:00,  3.88\n",
      "                 Class     Images  Instances      Box(P          R      mAP50  mAP50-95): 100%|██████████| 1/1 [00:00<0"
     ]
    },
    {
     "name": "stdout",
     "output_type": "stream",
     "text": [
      "                   all          4          4      0.742       0.75      0.995      0.823\n"
     ]
    },
    {
     "name": "stderr",
     "output_type": "stream",
     "text": [
      "\n"
     ]
    },
    {
     "name": "stdout",
     "output_type": "stream",
     "text": [
      "\n",
      "      Epoch    GPU_mem   box_loss   cls_loss   dfl_loss  Instances       Size\n"
     ]
    },
    {
     "name": "stderr",
     "output_type": "stream",
     "text": [
      "      18/50         0G     0.6504      1.707      1.012         16        640: 100%|██████████| 2/2 [00:05<00:00,  2.72\n",
      "                 Class     Images  Instances      Box(P          R      mAP50  mAP50-95): 100%|██████████| 1/1 [00:00<0"
     ]
    },
    {
     "name": "stdout",
     "output_type": "stream",
     "text": [
      "                   all          4          4      0.742       0.75      0.995      0.823\n"
     ]
    },
    {
     "name": "stderr",
     "output_type": "stream",
     "text": [
      "\n"
     ]
    },
    {
     "name": "stdout",
     "output_type": "stream",
     "text": [
      "\n",
      "      Epoch    GPU_mem   box_loss   cls_loss   dfl_loss  Instances       Size\n"
     ]
    },
    {
     "name": "stderr",
     "output_type": "stream",
     "text": [
      "      19/50         0G     0.7505      1.779      1.059         17        640: 100%|██████████| 2/2 [00:05<00:00,  2.69\n",
      "                 Class     Images  Instances      Box(P          R      mAP50  mAP50-95): 100%|██████████| 1/1 [00:00<0"
     ]
    },
    {
     "name": "stdout",
     "output_type": "stream",
     "text": [
      "                   all          4          4      0.694       0.75      0.995      0.826\n"
     ]
    },
    {
     "name": "stderr",
     "output_type": "stream",
     "text": [
      "\n"
     ]
    },
    {
     "name": "stdout",
     "output_type": "stream",
     "text": [
      "\n",
      "      Epoch    GPU_mem   box_loss   cls_loss   dfl_loss  Instances       Size\n"
     ]
    },
    {
     "name": "stderr",
     "output_type": "stream",
     "text": [
      "      20/50         0G     0.7299      1.598      1.022         17        640: 100%|██████████| 2/2 [00:06<00:00,  3.18\n",
      "                 Class     Images  Instances      Box(P          R      mAP50  mAP50-95): 100%|██████████| 1/1 [00:00<0"
     ]
    },
    {
     "name": "stdout",
     "output_type": "stream",
     "text": [
      "                   all          4          4      0.694       0.75      0.995      0.826\n"
     ]
    },
    {
     "name": "stderr",
     "output_type": "stream",
     "text": [
      "\n"
     ]
    },
    {
     "name": "stdout",
     "output_type": "stream",
     "text": [
      "\n",
      "      Epoch    GPU_mem   box_loss   cls_loss   dfl_loss  Instances       Size\n"
     ]
    },
    {
     "name": "stderr",
     "output_type": "stream",
     "text": [
      "      21/50         0G     0.5656      1.665     0.9352         12        640: 100%|██████████| 2/2 [00:05<00:00,  2.72\n",
      "                 Class     Images  Instances      Box(P          R      mAP50  mAP50-95): 100%|██████████| 1/1 [00:00<0"
     ]
    },
    {
     "name": "stdout",
     "output_type": "stream",
     "text": [
      "                   all          4          4      0.747       0.75      0.995      0.825\n"
     ]
    },
    {
     "name": "stderr",
     "output_type": "stream",
     "text": [
      "\n"
     ]
    },
    {
     "name": "stdout",
     "output_type": "stream",
     "text": [
      "\n",
      "      Epoch    GPU_mem   box_loss   cls_loss   dfl_loss  Instances       Size\n"
     ]
    },
    {
     "name": "stderr",
     "output_type": "stream",
     "text": [
      "      22/50         0G     0.6574      1.444      1.006         12        640: 100%|██████████| 2/2 [00:05<00:00,  2.66\n",
      "                 Class     Images  Instances      Box(P          R      mAP50  mAP50-95): 100%|██████████| 1/1 [00:00<0"
     ]
    },
    {
     "name": "stdout",
     "output_type": "stream",
     "text": [
      "                   all          4          4      0.747       0.75      0.995      0.825\n"
     ]
    },
    {
     "name": "stderr",
     "output_type": "stream",
     "text": [
      "\n"
     ]
    },
    {
     "name": "stdout",
     "output_type": "stream",
     "text": [
      "\n",
      "      Epoch    GPU_mem   box_loss   cls_loss   dfl_loss  Instances       Size\n"
     ]
    },
    {
     "name": "stderr",
     "output_type": "stream",
     "text": [
      "      23/50         0G     0.6798      1.498     0.9839         15        640: 100%|██████████| 2/2 [00:05<00:00,  2.71\n",
      "                 Class     Images  Instances      Box(P          R      mAP50  mAP50-95): 100%|██████████| 1/1 [00:00<0"
     ]
    },
    {
     "name": "stdout",
     "output_type": "stream",
     "text": [
      "                   all          4          4      0.721       0.75      0.995      0.871\n"
     ]
    },
    {
     "name": "stderr",
     "output_type": "stream",
     "text": [
      "\n"
     ]
    },
    {
     "name": "stdout",
     "output_type": "stream",
     "text": [
      "\n",
      "      Epoch    GPU_mem   box_loss   cls_loss   dfl_loss  Instances       Size\n"
     ]
    },
    {
     "name": "stderr",
     "output_type": "stream",
     "text": [
      "      24/50         0G     0.7812      1.668      1.013         16        640: 100%|██████████| 2/2 [00:05<00:00,  2.89\n",
      "                 Class     Images  Instances      Box(P          R      mAP50  mAP50-95): 100%|██████████| 1/1 [00:00<0"
     ]
    },
    {
     "name": "stdout",
     "output_type": "stream",
     "text": [
      "                   all          4          4      0.721       0.75      0.995      0.871\n"
     ]
    },
    {
     "name": "stderr",
     "output_type": "stream",
     "text": [
      "\n"
     ]
    },
    {
     "name": "stdout",
     "output_type": "stream",
     "text": [
      "\n",
      "      Epoch    GPU_mem   box_loss   cls_loss   dfl_loss  Instances       Size\n"
     ]
    },
    {
     "name": "stderr",
     "output_type": "stream",
     "text": [
      "      25/50         0G     0.6788      1.679     0.9532         11        640: 100%|██████████| 2/2 [00:06<00:00,  3.18\n",
      "                 Class     Images  Instances      Box(P          R      mAP50  mAP50-95): 100%|██████████| 1/1 [00:00<0"
     ]
    },
    {
     "name": "stdout",
     "output_type": "stream",
     "text": [
      "                   all          4          4      0.751       0.75      0.995      0.871\n"
     ]
    },
    {
     "name": "stderr",
     "output_type": "stream",
     "text": [
      "\n"
     ]
    },
    {
     "name": "stdout",
     "output_type": "stream",
     "text": [
      "\n",
      "      Epoch    GPU_mem   box_loss   cls_loss   dfl_loss  Instances       Size\n"
     ]
    },
    {
     "name": "stderr",
     "output_type": "stream",
     "text": [
      "      26/50         0G      0.633      1.324     0.9595         18        640: 100%|██████████| 2/2 [00:05<00:00,  2.76\n",
      "                 Class     Images  Instances      Box(P          R      mAP50  mAP50-95): 100%|██████████| 1/1 [00:00<0"
     ]
    },
    {
     "name": "stdout",
     "output_type": "stream",
     "text": [
      "                   all          4          4      0.751       0.75      0.995      0.871\n"
     ]
    },
    {
     "name": "stderr",
     "output_type": "stream",
     "text": [
      "\n"
     ]
    },
    {
     "name": "stdout",
     "output_type": "stream",
     "text": [
      "\n",
      "      Epoch    GPU_mem   box_loss   cls_loss   dfl_loss  Instances       Size\n"
     ]
    },
    {
     "name": "stderr",
     "output_type": "stream",
     "text": [
      "      27/50         0G     0.6639      1.485     0.9888         16        640: 100%|██████████| 2/2 [00:05<00:00,  2.51\n",
      "                 Class     Images  Instances      Box(P          R      mAP50  mAP50-95): 100%|██████████| 1/1 [00:00<0"
     ]
    },
    {
     "name": "stdout",
     "output_type": "stream",
     "text": [
      "                   all          4          4      0.751       0.75      0.995      0.871\n"
     ]
    },
    {
     "name": "stderr",
     "output_type": "stream",
     "text": [
      "\n"
     ]
    },
    {
     "name": "stdout",
     "output_type": "stream",
     "text": [
      "\n",
      "      Epoch    GPU_mem   box_loss   cls_loss   dfl_loss  Instances       Size\n"
     ]
    },
    {
     "name": "stderr",
     "output_type": "stream",
     "text": [
      "      28/50         0G     0.6936      1.521      1.005         16        640: 100%|██████████| 2/2 [00:05<00:00,  2.67\n",
      "                 Class     Images  Instances      Box(P          R      mAP50  mAP50-95): 100%|██████████| 1/1 [00:00<0"
     ]
    },
    {
     "name": "stdout",
     "output_type": "stream",
     "text": [
      "                   all          4          4      0.759       0.75      0.995      0.871\n"
     ]
    },
    {
     "name": "stderr",
     "output_type": "stream",
     "text": [
      "\n"
     ]
    },
    {
     "name": "stdout",
     "output_type": "stream",
     "text": [
      "\n",
      "      Epoch    GPU_mem   box_loss   cls_loss   dfl_loss  Instances       Size\n"
     ]
    },
    {
     "name": "stderr",
     "output_type": "stream",
     "text": [
      "      29/50         0G     0.6811      1.449     0.9551         14        640: 100%|██████████| 2/2 [00:05<00:00,  2.67\n",
      "                 Class     Images  Instances      Box(P          R      mAP50  mAP50-95): 100%|██████████| 1/1 [00:00<0"
     ]
    },
    {
     "name": "stdout",
     "output_type": "stream",
     "text": [
      "                   all          4          4      0.759       0.75      0.995      0.871\n"
     ]
    },
    {
     "name": "stderr",
     "output_type": "stream",
     "text": [
      "\n"
     ]
    },
    {
     "name": "stdout",
     "output_type": "stream",
     "text": [
      "\n",
      "      Epoch    GPU_mem   box_loss   cls_loss   dfl_loss  Instances       Size\n"
     ]
    },
    {
     "name": "stderr",
     "output_type": "stream",
     "text": [
      "      30/50         0G     0.7025      1.423     0.9726         13        640: 100%|██████████| 2/2 [00:05<00:00,  2.82\n",
      "                 Class     Images  Instances      Box(P          R      mAP50  mAP50-95): 100%|██████████| 1/1 [00:00<0"
     ]
    },
    {
     "name": "stdout",
     "output_type": "stream",
     "text": [
      "                   all          4          4      0.715       0.75      0.995      0.871\n"
     ]
    },
    {
     "name": "stderr",
     "output_type": "stream",
     "text": [
      "\n"
     ]
    },
    {
     "name": "stdout",
     "output_type": "stream",
     "text": [
      "\n",
      "      Epoch    GPU_mem   box_loss   cls_loss   dfl_loss  Instances       Size\n"
     ]
    },
    {
     "name": "stderr",
     "output_type": "stream",
     "text": [
      "      31/50         0G     0.7673      1.525      1.071         16        640: 100%|██████████| 2/2 [00:05<00:00,  2.87\n",
      "                 Class     Images  Instances      Box(P          R      mAP50  mAP50-95): 100%|██████████| 1/1 [00:00<0"
     ]
    },
    {
     "name": "stdout",
     "output_type": "stream",
     "text": [
      "                   all          4          4      0.715       0.75      0.995      0.871\n"
     ]
    },
    {
     "name": "stderr",
     "output_type": "stream",
     "text": [
      "\n"
     ]
    },
    {
     "name": "stdout",
     "output_type": "stream",
     "text": [
      "\n",
      "      Epoch    GPU_mem   box_loss   cls_loss   dfl_loss  Instances       Size\n"
     ]
    },
    {
     "name": "stderr",
     "output_type": "stream",
     "text": [
      "      32/50         0G     0.7358       1.48      1.053         15        640: 100%|██████████| 2/2 [00:04<00:00,  2.44\n",
      "                 Class     Images  Instances      Box(P          R      mAP50  mAP50-95): 100%|██████████| 1/1 [00:00<0"
     ]
    },
    {
     "name": "stdout",
     "output_type": "stream",
     "text": [
      "                   all          4          4      0.715       0.75      0.995      0.871\n"
     ]
    },
    {
     "name": "stderr",
     "output_type": "stream",
     "text": [
      "\n"
     ]
    },
    {
     "name": "stdout",
     "output_type": "stream",
     "text": [
      "\n",
      "      Epoch    GPU_mem   box_loss   cls_loss   dfl_loss  Instances       Size\n"
     ]
    },
    {
     "name": "stderr",
     "output_type": "stream",
     "text": [
      "      33/50         0G     0.4434      1.271     0.8454         13        640: 100%|██████████| 2/2 [00:05<00:00,  2.55\n",
      "                 Class     Images  Instances      Box(P          R      mAP50  mAP50-95): 100%|██████████| 1/1 [00:00<0"
     ]
    },
    {
     "name": "stdout",
     "output_type": "stream",
     "text": [
      "                   all          4          4       0.65          1      0.995      0.849\n"
     ]
    },
    {
     "name": "stderr",
     "output_type": "stream",
     "text": [
      "\n"
     ]
    },
    {
     "name": "stdout",
     "output_type": "stream",
     "text": [
      "\n",
      "      Epoch    GPU_mem   box_loss   cls_loss   dfl_loss  Instances       Size\n"
     ]
    },
    {
     "name": "stderr",
     "output_type": "stream",
     "text": [
      "      34/50         0G     0.6428      1.431     0.9976         12        640: 100%|██████████| 2/2 [00:05<00:00,  2.54\n",
      "                 Class     Images  Instances      Box(P          R      mAP50  mAP50-95): 100%|██████████| 1/1 [00:00<0"
     ]
    },
    {
     "name": "stdout",
     "output_type": "stream",
     "text": [
      "                   all          4          4       0.65          1      0.995      0.849\n"
     ]
    },
    {
     "name": "stderr",
     "output_type": "stream",
     "text": [
      "\n"
     ]
    },
    {
     "name": "stdout",
     "output_type": "stream",
     "text": [
      "\n",
      "      Epoch    GPU_mem   box_loss   cls_loss   dfl_loss  Instances       Size\n"
     ]
    },
    {
     "name": "stderr",
     "output_type": "stream",
     "text": [
      "      35/50         0G     0.4989      1.159     0.9179         12        640: 100%|██████████| 2/2 [00:04<00:00,  2.45\n",
      "                 Class     Images  Instances      Box(P          R      mAP50  mAP50-95): 100%|██████████| 1/1 [00:00<0"
     ]
    },
    {
     "name": "stdout",
     "output_type": "stream",
     "text": [
      "                   all          4          4       0.65          1      0.995      0.849\n"
     ]
    },
    {
     "name": "stderr",
     "output_type": "stream",
     "text": [
      "\n"
     ]
    },
    {
     "name": "stdout",
     "output_type": "stream",
     "text": [
      "\n",
      "      Epoch    GPU_mem   box_loss   cls_loss   dfl_loss  Instances       Size\n"
     ]
    },
    {
     "name": "stderr",
     "output_type": "stream",
     "text": [
      "      36/50         0G      0.669       1.49     0.9877         14        640: 100%|██████████| 2/2 [00:05<00:00,  2.62\n",
      "                 Class     Images  Instances      Box(P          R      mAP50  mAP50-95): 100%|██████████| 1/1 [00:00<0"
     ]
    },
    {
     "name": "stdout",
     "output_type": "stream",
     "text": [
      "                   all          4          4      0.669          1      0.995      0.871\n"
     ]
    },
    {
     "name": "stderr",
     "output_type": "stream",
     "text": [
      "\n"
     ]
    },
    {
     "name": "stdout",
     "output_type": "stream",
     "text": [
      "\n",
      "      Epoch    GPU_mem   box_loss   cls_loss   dfl_loss  Instances       Size\n"
     ]
    },
    {
     "name": "stderr",
     "output_type": "stream",
     "text": [
      "      37/50         0G     0.6806      1.415     0.9846         12        640: 100%|██████████| 2/2 [00:04<00:00,  2.35\n",
      "                 Class     Images  Instances      Box(P          R      mAP50  mAP50-95): 100%|██████████| 1/1 [00:00<0"
     ]
    },
    {
     "name": "stdout",
     "output_type": "stream",
     "text": [
      "                   all          4          4      0.669          1      0.995      0.871\n"
     ]
    },
    {
     "name": "stderr",
     "output_type": "stream",
     "text": [
      "\n"
     ]
    },
    {
     "name": "stdout",
     "output_type": "stream",
     "text": [
      "\n",
      "      Epoch    GPU_mem   box_loss   cls_loss   dfl_loss  Instances       Size\n"
     ]
    },
    {
     "name": "stderr",
     "output_type": "stream",
     "text": [
      "      38/50         0G     0.6965      1.283     0.9231         14        640: 100%|██████████| 2/2 [00:05<00:00,  2.85\n",
      "                 Class     Images  Instances      Box(P          R      mAP50  mAP50-95): 100%|██████████| 1/1 [00:00<0"
     ]
    },
    {
     "name": "stdout",
     "output_type": "stream",
     "text": [
      "                   all          4          4      0.669          1      0.995      0.871\n"
     ]
    },
    {
     "name": "stderr",
     "output_type": "stream",
     "text": [
      "\n"
     ]
    },
    {
     "name": "stdout",
     "output_type": "stream",
     "text": [
      "\n",
      "      Epoch    GPU_mem   box_loss   cls_loss   dfl_loss  Instances       Size\n"
     ]
    },
    {
     "name": "stderr",
     "output_type": "stream",
     "text": [
      "      39/50         0G     0.8614      1.672       1.13          8        640: 100%|██████████| 2/2 [00:04<00:00,  2.46\n",
      "                 Class     Images  Instances      Box(P          R      mAP50  mAP50-95): 100%|██████████| 1/1 [00:00<0"
     ]
    },
    {
     "name": "stdout",
     "output_type": "stream",
     "text": [
      "                   all          4          4      0.755          1      0.995      0.871\n"
     ]
    },
    {
     "name": "stderr",
     "output_type": "stream",
     "text": [
      "\n"
     ]
    },
    {
     "name": "stdout",
     "output_type": "stream",
     "text": [
      "\n",
      "      Epoch    GPU_mem   box_loss   cls_loss   dfl_loss  Instances       Size\n"
     ]
    },
    {
     "name": "stderr",
     "output_type": "stream",
     "text": [
      "      40/50         0G     0.6651       1.29     0.9128          9        640: 100%|██████████| 2/2 [00:04<00:00,  2.42\n",
      "                 Class     Images  Instances      Box(P          R      mAP50  mAP50-95): 100%|██████████| 1/1 [00:00<0"
     ]
    },
    {
     "name": "stdout",
     "output_type": "stream",
     "text": [
      "                   all          4          4      0.755          1      0.995      0.871\n"
     ]
    },
    {
     "name": "stderr",
     "output_type": "stream",
     "text": [
      "\n"
     ]
    },
    {
     "name": "stdout",
     "output_type": "stream",
     "text": [
      "Closing dataloader mosaic\n",
      "\n",
      "      Epoch    GPU_mem   box_loss   cls_loss   dfl_loss  Instances       Size\n"
     ]
    },
    {
     "name": "stderr",
     "output_type": "stream",
     "text": [
      "      41/50         0G     0.5156      1.532     0.9307          7        640: 100%|██████████| 2/2 [00:04<00:00,  2.34\n",
      "                 Class     Images  Instances      Box(P          R      mAP50  mAP50-95): 100%|██████████| 1/1 [00:00<0"
     ]
    },
    {
     "name": "stdout",
     "output_type": "stream",
     "text": [
      "                   all          4          4      0.755          1      0.995      0.871\n"
     ]
    },
    {
     "name": "stderr",
     "output_type": "stream",
     "text": [
      "\n"
     ]
    },
    {
     "name": "stdout",
     "output_type": "stream",
     "text": [
      "\n",
      "      Epoch    GPU_mem   box_loss   cls_loss   dfl_loss  Instances       Size\n"
     ]
    },
    {
     "name": "stderr",
     "output_type": "stream",
     "text": [
      "      42/50         0G     0.5691      1.717     0.8926          7        640: 100%|██████████| 2/2 [00:04<00:00,  2.28\n",
      "                 Class     Images  Instances      Box(P          R      mAP50  mAP50-95): 100%|██████████| 1/1 [00:00<0"
     ]
    },
    {
     "name": "stdout",
     "output_type": "stream",
     "text": [
      "                   all          4          4      0.793          1      0.995      0.895\n"
     ]
    },
    {
     "name": "stderr",
     "output_type": "stream",
     "text": [
      "\n"
     ]
    },
    {
     "name": "stdout",
     "output_type": "stream",
     "text": [
      "\n",
      "      Epoch    GPU_mem   box_loss   cls_loss   dfl_loss  Instances       Size\n"
     ]
    },
    {
     "name": "stderr",
     "output_type": "stream",
     "text": [
      "      43/50         0G     0.5238      1.524     0.8685          7        640: 100%|██████████| 2/2 [00:05<00:00,  2.63\n",
      "                 Class     Images  Instances      Box(P          R      mAP50  mAP50-95): 100%|██████████| 1/1 [00:00<0"
     ]
    },
    {
     "name": "stdout",
     "output_type": "stream",
     "text": [
      "                   all          4          4      0.793          1      0.995      0.895\n"
     ]
    },
    {
     "name": "stderr",
     "output_type": "stream",
     "text": [
      "\n"
     ]
    },
    {
     "name": "stdout",
     "output_type": "stream",
     "text": [
      "\n",
      "      Epoch    GPU_mem   box_loss   cls_loss   dfl_loss  Instances       Size\n"
     ]
    },
    {
     "name": "stderr",
     "output_type": "stream",
     "text": [
      "      44/50         0G     0.7031      1.605      1.096          7        640: 100%|██████████| 2/2 [00:05<00:00,  2.50\n",
      "                 Class     Images  Instances      Box(P          R      mAP50  mAP50-95): 100%|██████████| 1/1 [00:00<0"
     ]
    },
    {
     "name": "stdout",
     "output_type": "stream",
     "text": [
      "                   all          4          4      0.793          1      0.995      0.895\n"
     ]
    },
    {
     "name": "stderr",
     "output_type": "stream",
     "text": [
      "\n"
     ]
    },
    {
     "name": "stdout",
     "output_type": "stream",
     "text": [
      "\n",
      "      Epoch    GPU_mem   box_loss   cls_loss   dfl_loss  Instances       Size\n"
     ]
    },
    {
     "name": "stderr",
     "output_type": "stream",
     "text": [
      "      45/50         0G     0.5823       1.58       1.05          7        640: 100%|██████████| 2/2 [00:05<00:00,  2.68\n",
      "                 Class     Images  Instances      Box(P          R      mAP50  mAP50-95): 100%|██████████| 1/1 [00:00<0"
     ]
    },
    {
     "name": "stdout",
     "output_type": "stream",
     "text": [
      "                   all          4          4      0.793          1      0.995      0.895\n"
     ]
    },
    {
     "name": "stderr",
     "output_type": "stream",
     "text": [
      "\n"
     ]
    },
    {
     "name": "stdout",
     "output_type": "stream",
     "text": [
      "\n",
      "      Epoch    GPU_mem   box_loss   cls_loss   dfl_loss  Instances       Size\n"
     ]
    },
    {
     "name": "stderr",
     "output_type": "stream",
     "text": [
      "      46/50         0G     0.6013      1.857     0.9448          7        640: 100%|██████████| 2/2 [00:05<00:00,  2.57\n",
      "                 Class     Images  Instances      Box(P          R      mAP50  mAP50-95): 100%|██████████| 1/1 [00:00<0"
     ]
    },
    {
     "name": "stdout",
     "output_type": "stream",
     "text": [
      "                   all          4          4      0.824          1      0.995      0.895\n"
     ]
    },
    {
     "name": "stderr",
     "output_type": "stream",
     "text": [
      "\n"
     ]
    },
    {
     "name": "stdout",
     "output_type": "stream",
     "text": [
      "\n",
      "      Epoch    GPU_mem   box_loss   cls_loss   dfl_loss  Instances       Size\n"
     ]
    },
    {
     "name": "stderr",
     "output_type": "stream",
     "text": [
      "      47/50         0G     0.4579      1.477     0.8474          7        640: 100%|██████████| 2/2 [00:05<00:00,  2.69\n",
      "                 Class     Images  Instances      Box(P          R      mAP50  mAP50-95): 100%|██████████| 1/1 [00:00<0"
     ]
    },
    {
     "name": "stdout",
     "output_type": "stream",
     "text": [
      "                   all          4          4      0.824          1      0.995      0.895\n"
     ]
    },
    {
     "name": "stderr",
     "output_type": "stream",
     "text": [
      "\n"
     ]
    },
    {
     "name": "stdout",
     "output_type": "stream",
     "text": [
      "\n",
      "      Epoch    GPU_mem   box_loss   cls_loss   dfl_loss  Instances       Size\n"
     ]
    },
    {
     "name": "stderr",
     "output_type": "stream",
     "text": [
      "      48/50         0G     0.5008      1.685     0.9273          7        640: 100%|██████████| 2/2 [00:05<00:00,  2.70\n",
      "                 Class     Images  Instances      Box(P          R      mAP50  mAP50-95): 100%|██████████| 1/1 [00:00<0"
     ]
    },
    {
     "name": "stdout",
     "output_type": "stream",
     "text": [
      "                   all          4          4      0.824          1      0.995      0.895\n"
     ]
    },
    {
     "name": "stderr",
     "output_type": "stream",
     "text": [
      "\n"
     ]
    },
    {
     "name": "stdout",
     "output_type": "stream",
     "text": [
      "\n",
      "      Epoch    GPU_mem   box_loss   cls_loss   dfl_loss  Instances       Size\n"
     ]
    },
    {
     "name": "stderr",
     "output_type": "stream",
     "text": [
      "      49/50         0G     0.4523      1.567     0.8593          7        640: 100%|██████████| 2/2 [00:05<00:00,  2.87\n",
      "                 Class     Images  Instances      Box(P          R      mAP50  mAP50-95): 100%|██████████| 1/1 [00:00<0"
     ]
    },
    {
     "name": "stdout",
     "output_type": "stream",
     "text": [
      "                   all          4          4      0.824          1      0.995      0.895\n"
     ]
    },
    {
     "name": "stderr",
     "output_type": "stream",
     "text": [
      "\n"
     ]
    },
    {
     "name": "stdout",
     "output_type": "stream",
     "text": [
      "\n",
      "      Epoch    GPU_mem   box_loss   cls_loss   dfl_loss  Instances       Size\n"
     ]
    },
    {
     "name": "stderr",
     "output_type": "stream",
     "text": [
      "      50/50         0G     0.4375      1.545     0.9009          7        640: 100%|██████████| 2/2 [00:05<00:00,  2.60\n",
      "                 Class     Images  Instances      Box(P          R      mAP50  mAP50-95): 100%|██████████| 1/1 [00:00<0"
     ]
    },
    {
     "name": "stdout",
     "output_type": "stream",
     "text": [
      "                   all          4          4      0.888          1      0.995      0.895\n"
     ]
    },
    {
     "name": "stderr",
     "output_type": "stream",
     "text": [
      "\n"
     ]
    },
    {
     "name": "stdout",
     "output_type": "stream",
     "text": [
      "\n",
      "50 epochs completed in 0.109 hours.\n",
      "Optimizer stripped from runs\\detect\\train4\\weights\\last.pt, 6.2MB\n",
      "Optimizer stripped from runs\\detect\\train4\\weights\\best.pt, 6.2MB\n",
      "\n",
      "Validating runs\\detect\\train4\\weights\\best.pt...\n",
      "Ultralytics 8.3.82  Python-3.9.21 torch-2.6.0+cpu CPU (11th Gen Intel Core(TM) i5-1135G7 2.40GHz)\n",
      "Model summary (fused): 72 layers, 3,006,428 parameters, 0 gradients, 8.1 GFLOPs\n"
     ]
    },
    {
     "name": "stderr",
     "output_type": "stream",
     "text": [
      "                 Class     Images  Instances      Box(P          R      mAP50  mAP50-95): 100%|██████████| 1/1 [00:00<0\n"
     ]
    },
    {
     "name": "stdout",
     "output_type": "stream",
     "text": [
      "                   all          4          4      0.887          1      0.995      0.895\n",
      "              ThumbsUp          1          1      0.947          1      0.995      0.796\n",
      "            ThumbsDown          1          1      0.938          1      0.995      0.995\n",
      "              ThankYou          1          1      0.854          1      0.995      0.895\n",
      "              LiveLong          1          1      0.811          1      0.995      0.895\n",
      "Speed: 1.5ms preprocess, 75.6ms inference, 0.0ms loss, 5.1ms postprocess per image\n",
      "Results saved to \u001b[1mruns\\detect\\train4\u001b[0m\n"
     ]
    }
   ],
   "source": [
    "from ultralytics import YOLO\n",
    "\n",
    "model = YOLO(\"yolov8n.pt\")\n",
    "\n",
    "results = model.train(\n",
    "    data=\"dataset.yaml\",  \n",
    "    epochs=50,  \n",
    "    imgsz=640,  \n",
    "    batch=8,  \n",
    "    workers=2,  \n",
    "    device=\"cpu\"\n",
    ")\n"
   ]
  },
  {
   "cell_type": "code",
   "execution_count": 17,
   "id": "f06d205f-56b9-4157-a031-0bc5a99f161f",
   "metadata": {},
   "outputs": [
    {
     "name": "stdout",
     "output_type": "stream",
     "text": [
      "Ultralytics 8.3.82  Python-3.9.21 torch-2.6.0+cpu CPU (11th Gen Intel Core(TM) i5-1135G7 2.40GHz)\n",
      "Model summary (fused): 72 layers, 3,006,428 parameters, 0 gradients, 8.1 GFLOPs\n"
     ]
    },
    {
     "name": "stderr",
     "output_type": "stream",
     "text": [
      "\u001b[34m\u001b[1mval: \u001b[0mScanning C:\\Users\\varun\\workspace\\labels\\test.cache... 4 images, 0 backgrounds, 0 corrupt: 100%|██████████| 4/4 [0\u001b[0m\n",
      "                 Class     Images  Instances      Box(P          R      mAP50  mAP50-95): 100%|██████████| 1/1 [00:00<0\n"
     ]
    },
    {
     "name": "stdout",
     "output_type": "stream",
     "text": [
      "                   all          4          4      0.887          1      0.995      0.895\n",
      "              ThumbsUp          1          1      0.947          1      0.995      0.796\n",
      "            ThumbsDown          1          1      0.938          1      0.995      0.995\n",
      "              ThankYou          1          1      0.854          1      0.995      0.895\n",
      "              LiveLong          1          1      0.811          1      0.995      0.895\n",
      "Speed: 1.9ms preprocess, 67.5ms inference, 0.0ms loss, 7.2ms postprocess per image\n",
      "Results saved to \u001b[1mruns\\detect\\val\u001b[0m\n"
     ]
    }
   ],
   "source": [
    "from ultralytics import YOLO\n",
    "\n",
    "model = YOLO(\"C:/Users/varun/workspace/runs/detect/train4/weights/best.pt\")  # Load the best model\n",
    "metrics = model.val()  # Validate on test dataset\n"
   ]
  },
  {
   "cell_type": "code",
   "execution_count": 19,
   "id": "9e808a27-c269-4f87-a4e4-044b277b7ee9",
   "metadata": {},
   "outputs": [
    {
     "name": "stdout",
     "output_type": "stream",
     "text": [
      "\n",
      "1/1: 0... Success  (inf frames of shape 640x480 at 30.00 FPS)\n",
      "\n",
      "\n",
      "WARNING  inference results will accumulate in RAM unless `stream=True` is passed, causing potential out-of-memory\n",
      "errors for large sources or long-running streams and videos. See https://docs.ultralytics.com/modes/predict/ for help.\n",
      "\n",
      "Example:\n",
      "    results = model(source=..., stream=True)  # generator of Results objects\n",
      "    for r in results:\n",
      "        boxes = r.boxes  # Boxes object for bbox outputs\n",
      "        masks = r.masks  # Masks object for segment masks outputs\n",
      "        probs = r.probs  # Class probabilities for classification outputs\n",
      "\n",
      "0: 480x640 (no detections), 141.1ms\n",
      "0: 480x640 (no detections), 62.9ms\n",
      "0: 480x640 (no detections), 50.2ms\n",
      "0: 480x640 (no detections), 54.7ms\n",
      "0: 480x640 (no detections), 81.7ms\n",
      "0: 480x640 (no detections), 56.4ms\n",
      "0: 480x640 (no detections), 47.7ms\n",
      "0: 480x640 (no detections), 46.1ms\n",
      "0: 480x640 (no detections), 46.8ms\n",
      "0: 480x640 (no detections), 50.1ms\n",
      "0: 480x640 (no detections), 47.3ms\n",
      "0: 480x640 (no detections), 47.4ms\n",
      "WARNING  Waiting for stream 0\n",
      "0: 480x640 (no detections), 57.3ms\n",
      "0: 480x640 (no detections), 53.4ms\n",
      "0: 480x640 (no detections), 46.1ms\n",
      "0: 480x640 (no detections), 45.3ms\n",
      "0: 480x640 (no detections), 51.7ms\n",
      "0: 480x640 (no detections), 43.1ms\n",
      "0: 480x640 (no detections), 56.8ms\n",
      "0: 480x640 (no detections), 63.4ms\n",
      "0: 480x640 (no detections), 57.3ms\n",
      "0: 480x640 (no detections), 59.0ms\n",
      "0: 480x640 (no detections), 73.9ms\n",
      "0: 480x640 (no detections), 84.7ms\n",
      "0: 480x640 (no detections), 62.0ms\n",
      "0: 480x640 (no detections), 65.7ms\n",
      "0: 480x640 (no detections), 64.3ms\n",
      "0: 480x640 (no detections), 63.9ms\n",
      "0: 480x640 (no detections), 65.7ms\n",
      "0: 480x640 (no detections), 58.9ms\n",
      "0: 480x640 (no detections), 63.8ms\n",
      "0: 480x640 (no detections), 90.1ms\n",
      "0: 480x640 (no detections), 77.7ms\n",
      "0: 480x640 (no detections), 59.1ms\n",
      "0: 480x640 (no detections), 63.7ms\n",
      "0: 480x640 (no detections), 72.9ms\n",
      "0: 480x640 (no detections), 80.0ms\n",
      "0: 480x640 (no detections), 59.8ms\n",
      "0: 480x640 (no detections), 62.6ms\n",
      "0: 480x640 (no detections), 56.7ms\n",
      "0: 480x640 (no detections), 65.9ms\n",
      "0: 480x640 (no detections), 69.1ms\n",
      "0: 480x640 (no detections), 66.5ms\n",
      "0: 480x640 (no detections), 56.6ms\n",
      "0: 480x640 (no detections), 56.2ms\n",
      "0: 480x640 (no detections), 55.5ms\n",
      "0: 480x640 (no detections), 83.1ms\n",
      "0: 480x640 (no detections), 81.9ms\n",
      "0: 480x640 (no detections), 90.5ms\n",
      "0: 480x640 (no detections), 85.9ms\n",
      "0: 480x640 (no detections), 68.6ms\n",
      "0: 480x640 (no detections), 66.5ms\n",
      "0: 480x640 (no detections), 65.3ms\n",
      "0: 480x640 (no detections), 66.9ms\n",
      "0: 480x640 (no detections), 63.8ms\n",
      "0: 480x640 (no detections), 61.8ms\n",
      "0: 480x640 (no detections), 57.2ms\n",
      "0: 480x640 (no detections), 63.1ms\n",
      "0: 480x640 (no detections), 59.0ms\n",
      "0: 480x640 (no detections), 62.1ms\n",
      "0: 480x640 (no detections), 76.6ms\n",
      "0: 480x640 (no detections), 80.7ms\n",
      "0: 480x640 (no detections), 77.8ms\n",
      "0: 480x640 (no detections), 55.9ms\n",
      "0: 480x640 (no detections), 57.1ms\n",
      "0: 480x640 (no detections), 79.5ms\n",
      "0: 480x640 (no detections), 67.1ms\n",
      "0: 480x640 (no detections), 91.4ms\n",
      "0: 480x640 (no detections), 82.4ms\n",
      "0: 480x640 (no detections), 67.8ms\n",
      "0: 480x640 (no detections), 69.0ms\n",
      "0: 480x640 (no detections), 68.1ms\n",
      "0: 480x640 (no detections), 73.2ms\n",
      "0: 480x640 (no detections), 83.0ms\n",
      "0: 480x640 (no detections), 82.0ms\n",
      "0: 480x640 (no detections), 79.4ms\n",
      "0: 480x640 (no detections), 68.8ms\n",
      "0: 480x640 (no detections), 67.3ms\n",
      "0: 480x640 (no detections), 76.6ms\n",
      "0: 480x640 (no detections), 69.3ms\n",
      "0: 480x640 (no detections), 64.1ms\n",
      "0: 480x640 (no detections), 65.1ms\n",
      "0: 480x640 (no detections), 66.5ms\n",
      "0: 480x640 (no detections), 65.9ms\n",
      "0: 480x640 (no detections), 66.7ms\n",
      "0: 480x640 (no detections), 75.6ms\n",
      "0: 480x640 (no detections), 73.2ms\n",
      "0: 480x640 (no detections), 85.3ms\n",
      "0: 480x640 (no detections), 69.0ms\n",
      "0: 480x640 (no detections), 86.0ms\n",
      "0: 480x640 (no detections), 70.5ms\n",
      "0: 480x640 (no detections), 76.1ms\n",
      "0: 480x640 (no detections), 64.9ms\n",
      "0: 480x640 (no detections), 68.8ms\n",
      "0: 480x640 (no detections), 68.7ms\n",
      "0: 480x640 (no detections), 66.8ms\n",
      "0: 480x640 (no detections), 75.4ms\n",
      "0: 480x640 (no detections), 70.2ms\n",
      "0: 480x640 (no detections), 77.1ms\n",
      "0: 480x640 1 ThumbsUp, 85.1ms\n",
      "0: 480x640 (no detections), 62.4ms\n",
      "0: 480x640 (no detections), 72.2ms\n",
      "0: 480x640 (no detections), 72.0ms\n",
      "0: 480x640 (no detections), 87.2ms\n",
      "0: 480x640 (no detections), 66.2ms\n",
      "0: 480x640 (no detections), 61.4ms\n",
      "0: 480x640 (no detections), 57.8ms\n",
      "0: 480x640 (no detections), 59.5ms\n",
      "0: 480x640 (no detections), 56.1ms\n",
      "0: 480x640 (no detections), 59.5ms\n",
      "0: 480x640 (no detections), 64.4ms\n",
      "0: 480x640 (no detections), 63.5ms\n",
      "0: 480x640 (no detections), 70.0ms\n",
      "0: 480x640 (no detections), 74.0ms\n",
      "0: 480x640 (no detections), 54.6ms\n",
      "0: 480x640 (no detections), 56.5ms\n",
      "0: 480x640 (no detections), 61.1ms\n",
      "0: 480x640 (no detections), 63.0ms\n",
      "0: 480x640 (no detections), 79.3ms\n",
      "0: 480x640 (no detections), 68.3ms\n",
      "0: 480x640 (no detections), 58.5ms\n",
      "0: 480x640 (no detections), 58.4ms\n",
      "0: 480x640 1 ThumbsUp, 57.4ms\n",
      "0: 480x640 (no detections), 68.6ms\n",
      "0: 480x640 1 ThumbsUp, 66.7ms\n",
      "0: 480x640 1 ThumbsUp, 64.3ms\n",
      "0: 480x640 (no detections), 77.5ms\n",
      "0: 480x640 (no detections), 58.6ms\n",
      "0: 480x640 1 ThumbsUp, 59.0ms\n",
      "0: 480x640 1 ThumbsUp, 59.6ms\n",
      "0: 480x640 1 ThumbsUp, 61.9ms\n",
      "0: 480x640 (no detections), 65.1ms\n",
      "0: 480x640 1 ThumbsUp, 57.9ms\n",
      "0: 480x640 1 ThumbsUp, 66.7ms\n",
      "0: 480x640 (no detections), 78.4ms\n",
      "0: 480x640 (no detections), 61.2ms\n",
      "0: 480x640 (no detections), 60.2ms\n",
      "0: 480x640 (no detections), 62.2ms\n",
      "0: 480x640 (no detections), 64.4ms\n",
      "0: 480x640 (no detections), 74.4ms\n",
      "0: 480x640 (no detections), 66.9ms\n",
      "0: 480x640 (no detections), 58.4ms\n",
      "0: 480x640 (no detections), 64.9ms\n",
      "0: 480x640 1 ThumbsUp, 57.2ms\n",
      "0: 480x640 (no detections), 59.2ms\n",
      "0: 480x640 (no detections), 61.9ms\n",
      "0: 480x640 (no detections), 61.0ms\n",
      "0: 480x640 (no detections), 76.0ms\n",
      "0: 480x640 (no detections), 60.7ms\n",
      "0: 480x640 (no detections), 75.2ms\n",
      "0: 480x640 (no detections), 61.8ms\n",
      "0: 480x640 (no detections), 73.9ms\n",
      "0: 480x640 (no detections), 66.3ms\n",
      "0: 480x640 (no detections), 78.8ms\n",
      "0: 480x640 (no detections), 62.9ms\n",
      "0: 480x640 (no detections), 64.8ms\n",
      "0: 480x640 (no detections), 59.2ms\n",
      "0: 480x640 (no detections), 67.3ms\n",
      "0: 480x640 (no detections), 63.3ms\n",
      "0: 480x640 (no detections), 58.3ms\n",
      "0: 480x640 (no detections), 60.8ms\n",
      "0: 480x640 (no detections), 59.7ms\n",
      "0: 480x640 (no detections), 58.8ms\n",
      "0: 480x640 (no detections), 57.1ms\n",
      "0: 480x640 (no detections), 69.6ms\n",
      "0: 480x640 (no detections), 87.1ms\n",
      "0: 480x640 (no detections), 80.9ms\n",
      "0: 480x640 (no detections), 67.7ms\n",
      "0: 480x640 (no detections), 58.4ms\n",
      "0: 480x640 (no detections), 60.7ms\n",
      "0: 480x640 (no detections), 57.7ms\n",
      "0: 480x640 (no detections), 61.2ms\n",
      "0: 480x640 1 ThumbsUp, 61.5ms\n",
      "0: 480x640 1 ThumbsUp, 59.5ms\n",
      "0: 480x640 1 ThumbsUp, 62.5ms\n",
      "0: 480x640 (no detections), 60.6ms\n",
      "0: 480x640 (no detections), 58.6ms\n",
      "0: 480x640 (no detections), 73.2ms\n",
      "0: 480x640 (no detections), 65.4ms\n",
      "0: 480x640 (no detections), 75.1ms\n",
      "0: 480x640 1 ThumbsUp, 94.1ms\n",
      "0: 480x640 (no detections), 75.6ms\n",
      "0: 480x640 1 ThumbsUp, 62.0ms\n",
      "0: 480x640 1 ThumbsUp, 60.2ms\n",
      "0: 480x640 1 ThumbsUp, 59.3ms\n",
      "0: 480x640 (no detections), 65.0ms\n",
      "0: 480x640 (no detections), 59.0ms\n",
      "0: 480x640 (no detections), 64.8ms\n",
      "0: 480x640 1 ThumbsUp, 60.9ms\n",
      "0: 480x640 (no detections), 59.9ms\n",
      "0: 480x640 (no detections), 62.7ms\n",
      "0: 480x640 (no detections), 61.8ms\n",
      "0: 480x640 (no detections), 73.4ms\n",
      "0: 480x640 (no detections), 71.9ms\n",
      "0: 480x640 (no detections), 63.9ms\n",
      "0: 480x640 (no detections), 74.0ms\n",
      "0: 480x640 (no detections), 78.1ms\n",
      "0: 480x640 (no detections), 61.7ms\n",
      "0: 480x640 (no detections), 64.4ms\n",
      "0: 480x640 1 ThumbsUp, 60.2ms\n",
      "0: 480x640 1 ThumbsUp, 59.4ms\n",
      "0: 480x640 1 ThumbsUp, 60.5ms\n",
      "0: 480x640 1 ThumbsUp, 60.8ms\n",
      "0: 480x640 (no detections), 58.8ms\n",
      "0: 480x640 (no detections), 62.9ms\n",
      "0: 480x640 (no detections), 69.3ms\n",
      "0: 480x640 (no detections), 69.3ms\n",
      "0: 480x640 (no detections), 77.2ms\n",
      "0: 480x640 (no detections), 61.1ms\n",
      "0: 480x640 (no detections), 62.5ms\n",
      "0: 480x640 (no detections), 63.4ms\n",
      "0: 480x640 (no detections), 84.3ms\n",
      "0: 480x640 1 ThumbsUp, 62.3ms\n",
      "0: 480x640 1 ThumbsUp, 59.9ms\n",
      "0: 480x640 1 ThumbsUp, 59.3ms\n",
      "0: 480x640 (no detections), 61.6ms\n",
      "0: 480x640 (no detections), 62.4ms\n",
      "0: 480x640 (no detections), 64.8ms\n",
      "0: 480x640 (no detections), 63.6ms\n",
      "0: 480x640 (no detections), 72.9ms\n",
      "0: 480x640 (no detections), 71.1ms\n",
      "0: 480x640 1 ThumbsUp, 65.9ms\n",
      "0: 480x640 (no detections), 61.7ms\n",
      "0: 480x640 (no detections), 66.0ms\n",
      "0: 480x640 (no detections), 60.6ms\n",
      "0: 480x640 (no detections), 65.0ms\n",
      "0: 480x640 (no detections), 76.5ms\n",
      "0: 480x640 (no detections), 66.9ms\n",
      "0: 480x640 (no detections), 58.1ms\n",
      "0: 480x640 (no detections), 61.1ms\n",
      "0: 480x640 (no detections), 60.9ms\n",
      "0: 480x640 (no detections), 71.5ms\n",
      "0: 480x640 (no detections), 75.1ms\n",
      "0: 480x640 (no detections), 75.2ms\n",
      "0: 480x640 (no detections), 77.0ms\n",
      "0: 480x640 (no detections), 65.5ms\n",
      "0: 480x640 (no detections), 63.3ms\n",
      "0: 480x640 (no detections), 60.5ms\n",
      "0: 480x640 (no detections), 61.8ms\n",
      "0: 480x640 (no detections), 63.0ms\n",
      "0: 480x640 (no detections), 60.6ms\n",
      "0: 480x640 (no detections), 82.1ms\n",
      "0: 480x640 (no detections), 72.1ms\n",
      "0: 480x640 (no detections), 58.0ms\n",
      "0: 480x640 (no detections), 72.0ms\n",
      "0: 480x640 (no detections), 79.2ms\n",
      "0: 480x640 (no detections), 69.1ms\n",
      "0: 480x640 (no detections), 73.0ms\n",
      "0: 480x640 (no detections), 58.9ms\n",
      "0: 480x640 (no detections), 62.4ms\n",
      "0: 480x640 (no detections), 59.6ms\n",
      "0: 480x640 (no detections), 62.1ms\n",
      "0: 480x640 (no detections), 64.4ms\n",
      "0: 480x640 (no detections), 63.2ms\n",
      "0: 480x640 (no detections), 60.8ms\n",
      "0: 480x640 (no detections), 58.8ms\n",
      "0: 480x640 (no detections), 83.2ms\n",
      "0: 480x640 (no detections), 69.5ms\n",
      "0: 480x640 (no detections), 78.5ms\n",
      "0: 480x640 (no detections), 72.3ms\n",
      "0: 480x640 (no detections), 80.5ms\n",
      "0: 480x640 (no detections), 62.8ms\n",
      "0: 480x640 (no detections), 62.4ms\n",
      "0: 480x640 (no detections), 63.9ms\n",
      "0: 480x640 (no detections), 62.0ms\n",
      "0: 480x640 (no detections), 66.4ms\n",
      "0: 480x640 (no detections), 65.6ms\n",
      "0: 480x640 (no detections), 64.5ms\n",
      "0: 480x640 (no detections), 60.8ms\n",
      "0: 480x640 (no detections), 62.6ms\n",
      "0: 480x640 (no detections), 63.0ms\n",
      "0: 480x640 (no detections), 92.3ms\n",
      "0: 480x640 (no detections), 78.7ms\n",
      "0: 480x640 (no detections), 77.4ms\n",
      "0: 480x640 (no detections), 62.5ms\n",
      "0: 480x640 (no detections), 63.3ms\n",
      "0: 480x640 (no detections), 59.7ms\n",
      "0: 480x640 (no detections), 61.4ms\n",
      "0: 480x640 (no detections), 64.4ms\n",
      "0: 480x640 (no detections), 62.1ms\n",
      "0: 480x640 (no detections), 61.3ms\n",
      "0: 480x640 (no detections), 58.2ms\n",
      "0: 480x640 (no detections), 63.3ms\n",
      "0: 480x640 (no detections), 57.7ms\n",
      "0: 480x640 (no detections), 58.7ms\n",
      "0: 480x640 (no detections), 90.0ms\n",
      "0: 480x640 (no detections), 84.9ms\n",
      "0: 480x640 (no detections), 78.6ms\n",
      "0: 480x640 (no detections), 64.8ms\n",
      "0: 480x640 (no detections), 60.5ms\n",
      "0: 480x640 (no detections), 72.0ms\n",
      "0: 480x640 (no detections), 49.7ms\n",
      "0: 480x640 (no detections), 59.2ms\n",
      "0: 480x640 (no detections), 63.4ms\n",
      "0: 480x640 (no detections), 63.5ms\n",
      "0: 480x640 (no detections), 60.2ms\n",
      "0: 480x640 (no detections), 61.6ms\n",
      "0: 480x640 (no detections), 57.7ms\n",
      "0: 480x640 (no detections), 78.7ms\n",
      "0: 480x640 (no detections), 61.0ms\n",
      "0: 480x640 (no detections), 77.1ms\n",
      "0: 480x640 (no detections), 60.3ms\n",
      "0: 480x640 (no detections), 62.4ms\n",
      "0: 480x640 (no detections), 59.5ms\n",
      "0: 480x640 (no detections), 60.0ms\n",
      "0: 480x640 (no detections), 58.3ms\n",
      "0: 480x640 (no detections), 50.8ms\n",
      "0: 480x640 (no detections), 55.8ms\n",
      "0: 480x640 (no detections), 63.8ms\n",
      "0: 480x640 (no detections), 67.7ms\n",
      "0: 480x640 (no detections), 57.4ms\n",
      "0: 480x640 (no detections), 69.6ms\n",
      "0: 480x640 (no detections), 48.7ms\n",
      "0: 480x640 (no detections), 50.3ms\n",
      "0: 480x640 (no detections), 49.7ms\n",
      "0: 480x640 (no detections), 53.4ms\n",
      "0: 480x640 (no detections), 73.6ms\n",
      "0: 480x640 (no detections), 84.5ms\n",
      "0: 480x640 (no detections), 88.3ms\n",
      "0: 480x640 (no detections), 70.5ms\n",
      "0: 480x640 (no detections), 63.0ms\n",
      "0: 480x640 (no detections), 49.3ms\n",
      "0: 480x640 (no detections), 70.1ms\n",
      "0: 480x640 (no detections), 49.3ms\n",
      "0: 480x640 (no detections), 50.4ms\n",
      "0: 480x640 (no detections), 55.1ms\n",
      "0: 480x640 (no detections), 65.6ms\n",
      "0: 480x640 (no detections), 76.2ms\n",
      "0: 480x640 (no detections), 73.0ms\n",
      "0: 480x640 (no detections), 66.8ms\n",
      "0: 480x640 (no detections), 51.6ms\n",
      "WARNING  Waiting for stream 0\n",
      "0: 480x640 (no detections), 50.8ms\n",
      "0: 480x640 (no detections), 62.3ms\n",
      "0: 480x640 (no detections), 51.5ms\n",
      "0: 480x640 (no detections), 60.1ms\n",
      "0: 480x640 (no detections), 52.8ms\n",
      "0: 480x640 (no detections), 59.6ms\n",
      "0: 480x640 (no detections), 52.0ms\n",
      "0: 480x640 (no detections), 51.0ms\n",
      "0: 480x640 (no detections), 51.4ms\n",
      "0: 480x640 (no detections), 51.8ms\n",
      "WARNING  Waiting for stream 0\n",
      "0: 480x640 (no detections), 52.4ms\n",
      "0: 480x640 (no detections), 54.6ms\n",
      "0: 480x640 (no detections), 57.4ms\n",
      "0: 480x640 (no detections), 56.4ms\n",
      "0: 480x640 (no detections), 54.1ms\n",
      "0: 480x640 1 ThumbsUp, 50.3ms\n",
      "0: 480x640 (no detections), 54.8ms\n",
      "0: 480x640 (no detections), 50.2ms\n",
      "0: 480x640 (no detections), 50.4ms\n",
      "WARNING  Waiting for stream 0\n",
      "0: 480x640 (no detections), 54.5ms\n",
      "0: 480x640 (no detections), 55.9ms\n",
      "0: 480x640 (no detections), 62.0ms\n",
      "0: 480x640 (no detections), 52.0ms\n",
      "0: 480x640 (no detections), 52.1ms\n",
      "0: 480x640 (no detections), 52.3ms\n",
      "0: 480x640 (no detections), 52.3ms\n",
      "WARNING  Waiting for stream 0\n",
      "0: 480x640 (no detections), 50.4ms\n",
      "0: 480x640 1 ThumbsUp, 68.3ms\n",
      "0: 480x640 1 ThumbsUp, 89.9ms\n",
      "0: 480x640 1 ThumbsUp, 80.4ms\n",
      "0: 480x640 (no detections), 68.4ms\n",
      "0: 480x640 1 ThumbsUp, 60.7ms\n",
      "0: 480x640 (no detections), 51.6ms\n",
      "0: 480x640 (no detections), 52.2ms\n",
      "0: 480x640 (no detections), 51.3ms\n",
      "WARNING  Waiting for stream 0\n",
      "0: 480x640 (no detections), 50.8ms\n",
      "0: 480x640 (no detections), 52.4ms\n",
      "WARNING  Waiting for stream 0\n",
      "0: 480x640 (no detections), 58.1ms\n",
      "0: 480x640 (no detections), 71.3ms\n",
      "0: 480x640 (no detections), 58.2ms\n",
      "0: 480x640 (no detections), 49.7ms\n",
      "WARNING  Waiting for stream 0\n",
      "0: 480x640 (no detections), 48.9ms\n",
      "0: 480x640 (no detections), 50.0ms\n",
      "0: 480x640 1 ThumbsUp, 52.8ms\n",
      "0: 480x640 1 ThumbsUp, 54.4ms\n",
      "0: 480x640 (no detections), 59.3ms\n",
      "0: 480x640 (no detections), 75.8ms\n",
      "0: 480x640 (no detections), 69.9ms\n",
      "0: 480x640 (no detections), 54.3ms\n",
      "0: 480x640 (no detections), 56.1ms\n",
      "0: 480x640 (no detections), 49.9ms\n",
      "0: 480x640 (no detections), 51.8ms\n",
      "0: 480x640 (no detections), 55.2ms\n",
      "0: 480x640 (no detections), 70.5ms\n",
      "0: 480x640 (no detections), 66.1ms\n",
      "0: 480x640 (no detections), 65.7ms\n",
      "0: 480x640 (no detections), 50.4ms\n",
      "0: 480x640 (no detections), 70.7ms\n",
      "0: 480x640 (no detections), 51.1ms\n",
      "0: 480x640 (no detections), 49.9ms\n",
      "0: 480x640 (no detections), 51.8ms\n",
      "0: 480x640 (no detections), 63.6ms\n",
      "0: 480x640 (no detections), 65.2ms\n",
      "0: 480x640 (no detections), 69.9ms\n",
      "0: 480x640 (no detections), 70.8ms\n",
      "0: 480x640 (no detections), 49.3ms\n",
      "0: 480x640 (no detections), 56.2ms\n",
      "0: 480x640 (no detections), 68.1ms\n",
      "0: 480x640 (no detections), 51.5ms\n",
      "0: 480x640 (no detections), 51.8ms\n",
      "0: 480x640 (no detections), 60.3ms\n",
      "0: 480x640 1 ThankYou, 63.9ms\n",
      "0: 480x640 1 ThankYou, 73.6ms\n",
      "0: 480x640 1 ThankYou, 65.7ms\n",
      "0: 480x640 (no detections), 80.4ms\n",
      "0: 480x640 (no detections), 63.4ms\n",
      "0: 480x640 (no detections), 59.5ms\n",
      "0: 480x640 (no detections), 52.2ms\n",
      "0: 480x640 (no detections), 57.8ms\n",
      "0: 480x640 (no detections), 54.4ms\n",
      "0: 480x640 (no detections), 51.0ms\n",
      "WARNING  Waiting for stream 0\n",
      "0: 480x640 (no detections), 51.6ms\n",
      "0: 480x640 (no detections), 55.3ms\n",
      "0: 480x640 (no detections), 63.0ms\n",
      "0: 480x640 (no detections), 50.1ms\n",
      "0: 480x640 (no detections), 53.6ms\n",
      "WARNING  Waiting for stream 0\n",
      "0: 480x640 (no detections), 56.5ms\n",
      "0: 480x640 (no detections), 62.1ms\n",
      "0: 480x640 (no detections), 51.0ms\n",
      "0: 480x640 (no detections), 65.3ms\n",
      "0: 480x640 (no detections), 57.9ms\n",
      "0: 480x640 (no detections), 65.7ms\n",
      "0: 480x640 (no detections), 50.7ms\n",
      "0: 480x640 (no detections), 50.8ms\n",
      "0: 480x640 (no detections), 56.6ms\n",
      "0: 480x640 (no detections), 49.2ms\n",
      "WARNING  Waiting for stream 0\n",
      "0: 480x640 (no detections), 74.4ms\n",
      "0: 480x640 (no detections), 63.4ms\n",
      "0: 480x640 (no detections), 61.0ms\n",
      "0: 480x640 (no detections), 70.0ms\n",
      "0: 480x640 (no detections), 50.1ms\n",
      "0: 480x640 (no detections), 51.4ms\n",
      "0: 480x640 (no detections), 58.4ms\n",
      "0: 480x640 (no detections), 49.5ms\n",
      "0: 480x640 (no detections), 52.7ms\n",
      "WARNING  Waiting for stream 0\n",
      "0: 480x640 (no detections), 79.2ms\n",
      "0: 480x640 (no detections), 74.1ms\n",
      "0: 480x640 (no detections), 69.9ms\n",
      "0: 480x640 (no detections), 51.7ms\n",
      "0: 480x640 (no detections), 51.3ms\n",
      "0: 480x640 (no detections), 53.9ms\n",
      "WARNING  Waiting for stream 0\n",
      "0: 480x640 (no detections), 49.9ms\n",
      "0: 480x640 (no detections), 49.5ms\n",
      "0: 480x640 (no detections), 52.9ms\n",
      "0: 480x640 (no detections), 93.0ms\n",
      "0: 480x640 (no detections), 80.9ms\n",
      "0: 480x640 (no detections), 51.0ms\n",
      "0: 480x640 (no detections), 52.1ms\n",
      "WARNING  Waiting for stream 0\n",
      "0: 480x640 (no detections), 57.1ms\n",
      "0: 480x640 (no detections), 49.2ms\n",
      "0: 480x640 (no detections), 52.1ms\n",
      "0: 480x640 (no detections), 53.0ms\n",
      "WARNING  Waiting for stream 0\n",
      "0: 480x640 (no detections), 59.8ms\n",
      "0: 480x640 (no detections), 87.5ms\n",
      "0: 480x640 (no detections), 61.3ms\n",
      "0: 480x640 (no detections), 48.9ms\n",
      "0: 480x640 (no detections), 53.5ms\n",
      "WARNING  Waiting for stream 0\n",
      "0: 480x640 (no detections), 50.4ms\n",
      "0: 480x640 (no detections), 50.2ms\n",
      "0: 480x640 1 ThankYou, 63.8ms\n",
      "0: 480x640 1 ThankYou, 67.5ms\n",
      "0: 480x640 1 ThankYou, 76.8ms\n",
      "0: 480x640 1 ThankYou, 69.5ms\n",
      "0: 480x640 1 ThankYou, 72.9ms\n",
      "0: 480x640 (no detections), 64.4ms\n",
      "0: 480x640 (no detections), 63.5ms\n",
      "0: 480x640 (no detections), 70.3ms\n",
      "0: 480x640 (no detections), 62.6ms\n",
      "0: 480x640 (no detections), 51.0ms\n",
      "0: 480x640 1 ThankYou, 52.4ms\n",
      "0: 480x640 1 ThankYou, 66.6ms\n",
      "0: 480x640 1 ThankYou, 81.6ms\n",
      "0: 480x640 (no detections), 79.0ms\n",
      "0: 480x640 (no detections), 60.2ms\n",
      "0: 480x640 (no detections), 57.7ms\n",
      "0: 480x640 (no detections), 54.4ms\n",
      "0: 480x640 (no detections), 53.1ms\n",
      "0: 480x640 (no detections), 51.7ms\n",
      "WARNING  Waiting for stream 0\n",
      "0: 480x640 (no detections), 55.9ms\n",
      "0: 480x640 (no detections), 69.7ms\n",
      "0: 480x640 (no detections), 68.3ms\n",
      "0: 480x640 (no detections), 51.0ms\n",
      "0: 480x640 (no detections), 50.8ms\n",
      "0: 480x640 (no detections), 78.5ms\n",
      "0: 480x640 (no detections), 53.4ms\n",
      "0: 480x640 (no detections), 50.1ms\n",
      "0: 480x640 (no detections), 55.5ms\n",
      "0: 480x640 (no detections), 63.9ms\n",
      "0: 480x640 (no detections), 70.0ms\n",
      "0: 480x640 (no detections), 52.9ms\n",
      "0: 480x640 1 ThankYou, 51.7ms\n",
      "0: 480x640 1 ThankYou, 53.9ms\n",
      "0: 480x640 1 ThankYou, 69.9ms\n",
      "0: 480x640 1 ThankYou, 50.9ms\n",
      "0: 480x640 1 ThankYou, 53.6ms\n",
      "0: 480x640 1 ThankYou, 65.5ms\n",
      "0: 480x640 1 ThankYou, 75.3ms\n",
      "0: 480x640 1 ThankYou, 51.8ms\n",
      "0: 480x640 1 ThankYou, 51.5ms\n",
      "0: 480x640 1 ThankYou, 55.0ms\n",
      "0: 480x640 1 ThankYou, 64.4ms\n",
      "0: 480x640 1 ThankYou, 64.8ms\n",
      "0: 480x640 1 ThankYou, 73.6ms\n",
      "0: 480x640 1 ThankYou, 54.3ms\n",
      "0: 480x640 1 ThankYou, 65.7ms\n",
      "0: 480x640 1 ThankYou, 67.4ms\n",
      "0: 480x640 1 ThankYou, 49.8ms\n",
      "0: 480x640 (no detections), 52.0ms\n",
      "0: 480x640 (no detections), 55.5ms\n",
      "0: 480x640 (no detections), 51.0ms\n",
      "WARNING  Waiting for stream 0\n",
      "0: 480x640 (no detections), 51.1ms\n",
      "0: 480x640 (no detections), 81.2ms\n",
      "0: 480x640 1 ThankYou, 76.8ms\n",
      "0: 480x640 1 ThankYou, 77.2ms\n",
      "0: 480x640 1 ThankYou, 80.1ms\n",
      "0: 480x640 1 ThankYou, 61.6ms\n",
      "0: 480x640 1 ThankYou, 51.9ms\n",
      "0: 480x640 1 ThankYou, 56.5ms\n",
      "0: 480x640 1 ThankYou, 64.3ms\n",
      "0: 480x640 1 ThankYou, 65.2ms\n",
      "0: 480x640 (no detections), 55.1ms\n",
      "0: 480x640 (no detections), 53.1ms\n",
      "0: 480x640 1 ThankYou, 79.8ms\n",
      "0: 480x640 1 ThankYou, 75.6ms\n",
      "0: 480x640 (no detections), 48.7ms\n",
      "0: 480x640 (no detections), 52.5ms\n",
      "0: 480x640 (no detections), 55.9ms\n",
      "0: 480x640 (no detections), 53.1ms\n",
      "WARNING  Waiting for stream 0\n",
      "0: 480x640 (no detections), 53.7ms\n",
      "0: 480x640 (no detections), 57.7ms\n",
      "0: 480x640 (no detections), 78.0ms\n",
      "0: 480x640 (no detections), 72.7ms\n",
      "0: 480x640 (no detections), 59.4ms\n",
      "0: 480x640 (no detections), 53.7ms\n",
      "0: 480x640 (no detections), 54.7ms\n",
      "0: 480x640 1 ThumbsUp, 49.9ms\n",
      "0: 480x640 (no detections), 55.1ms\n",
      "0: 480x640 (no detections), 51.5ms\n",
      "0: 480x640 (no detections), 72.7ms\n",
      "0: 480x640 (no detections), 72.8ms\n",
      "0: 480x640 (no detections), 73.7ms\n",
      "0: 480x640 (no detections), 66.1ms\n",
      "0: 480x640 1 ThumbsUp, 54.3ms\n",
      "0: 480x640 (no detections), 54.2ms\n",
      "0: 480x640 (no detections), 51.7ms\n",
      "WARNING  Waiting for stream 0\n",
      "0: 480x640 (no detections), 50.5ms\n",
      "0: 480x640 (no detections), 54.1ms\n",
      "0: 480x640 (no detections), 63.3ms\n",
      "0: 480x640 (no detections), 64.0ms\n",
      "0: 480x640 (no detections), 53.1ms\n",
      "0: 480x640 (no detections), 64.3ms\n",
      "0: 480x640 1 ThumbsUp, 59.7ms\n",
      "0: 480x640 (no detections), 56.5ms\n",
      "0: 480x640 (no detections), 51.0ms\n",
      "WARNING  Waiting for stream 0\n",
      "0: 480x640 (no detections), 52.0ms\n",
      "0: 480x640 (no detections), 69.4ms\n",
      "0: 480x640 (no detections), 71.2ms\n",
      "0: 480x640 (no detections), 73.9ms\n",
      "0: 480x640 (no detections), 60.9ms\n",
      "0: 480x640 (no detections), 49.6ms\n",
      "0: 480x640 (no detections), 76.1ms\n",
      "0: 480x640 (no detections), 51.3ms\n",
      "0: 480x640 (no detections), 51.5ms\n",
      "0: 480x640 (no detections), 54.2ms\n",
      "0: 480x640 (no detections), 61.9ms\n",
      "0: 480x640 (no detections), 87.1ms\n",
      "0: 480x640 (no detections), 80.7ms\n",
      "0: 480x640 (no detections), 53.8ms\n",
      "0: 480x640 (no detections), 52.4ms\n",
      "0: 480x640 (no detections), 53.1ms\n",
      "0: 480x640 (no detections), 69.8ms\n",
      "0: 480x640 (no detections), 53.3ms\n",
      "0: 480x640 (no detections), 53.1ms\n",
      "0: 480x640 (no detections), 55.7ms\n",
      "0: 480x640 (no detections), 60.2ms\n",
      "0: 480x640 (no detections), 52.6ms\n",
      "WARNING  Waiting for stream 0\n",
      "0: 480x640 (no detections), 50.2ms\n",
      "0: 480x640 (no detections), 53.7ms\n",
      "0: 480x640 (no detections), 51.1ms\n",
      "0: 480x640 (no detections), 70.7ms\n",
      "0: 480x640 (no detections), 55.3ms\n",
      "0: 480x640 (no detections), 54.9ms\n",
      "0: 480x640 (no detections), 66.8ms\n",
      "0: 480x640 (no detections), 50.4ms\n",
      "0: 480x640 (no detections), 54.2ms\n",
      "0: 480x640 (no detections), 54.3ms\n",
      "WARNING  Waiting for stream 0\n",
      "0: 480x640 (no detections), 50.6ms\n",
      "0: 480x640 (no detections), 54.5ms\n",
      "0: 480x640 (no detections), 76.4ms\n",
      "0: 480x640 (no detections), 69.6ms\n",
      "0: 480x640 (no detections), 75.4ms\n",
      "0: 480x640 (no detections), 85.8ms\n",
      "0: 480x640 (no detections), 65.5ms\n",
      "0: 480x640 (no detections), 54.0ms\n",
      "0: 480x640 (no detections), 55.9ms\n",
      "0: 480x640 (no detections), 54.0ms\n",
      "WARNING  Waiting for stream 0\n",
      "0: 480x640 (no detections), 56.0ms\n",
      "0: 480x640 (no detections), 52.2ms\n",
      "0: 480x640 (no detections), 84.2ms\n",
      "0: 480x640 (no detections), 68.9ms\n",
      "0: 480x640 (no detections), 51.9ms\n",
      "0: 480x640 (no detections), 54.4ms\n",
      "0: 480x640 (no detections), 54.4ms\n",
      "0: 480x640 (no detections), 69.5ms\n",
      "0: 480x640 (no detections), 60.4ms\n",
      "0: 480x640 (no detections), 54.7ms\n",
      "0: 480x640 (no detections), 55.9ms\n",
      "0: 480x640 (no detections), 58.6ms\n",
      "0: 480x640 (no detections), 90.4ms\n",
      "0: 480x640 (no detections), 85.5ms\n",
      "0: 480x640 (no detections), 88.3ms\n",
      "0: 480x640 (no detections), 68.9ms\n",
      "0: 480x640 (no detections), 55.7ms\n",
      "0: 480x640 (no detections), 68.2ms\n",
      "0: 480x640 (no detections), 68.0ms\n",
      "0: 480x640 (no detections), 58.8ms\n",
      "0: 480x640 (no detections), 68.9ms\n",
      "0: 480x640 (no detections), 74.5ms\n",
      "0: 480x640 (no detections), 53.8ms\n",
      "0: 480x640 (no detections), 64.6ms\n",
      "0: 480x640 (no detections), 52.9ms\n",
      "0: 480x640 (no detections), 52.2ms\n",
      "0: 480x640 (no detections), 54.8ms\n",
      "0: 480x640 (no detections), 74.0ms\n",
      "0: 480x640 (no detections), 80.7ms\n",
      "0: 480x640 (no detections), 65.4ms\n",
      "0: 480x640 1 ThumbsDown, 74.1ms\n",
      "0: 480x640 (no detections), 52.7ms\n",
      "0: 480x640 1 ThumbsDown, 53.5ms\n",
      "0: 480x640 1 ThumbsDown, 52.1ms\n",
      "0: 480x640 (no detections), 58.3ms\n",
      "0: 480x640 1 ThumbsDown, 54.3ms\n",
      "0: 480x640 1 ThumbsDown, 64.8ms\n",
      "0: 480x640 1 ThumbsDown, 56.8ms\n",
      "0: 480x640 1 ThumbsDown, 52.2ms\n",
      "0: 480x640 1 ThumbsDown, 85.1ms\n",
      "0: 480x640 (no detections), 52.1ms\n",
      "0: 480x640 1 ThumbsDown, 50.1ms\n",
      "WARNING  Waiting for stream 0\n",
      "0: 480x640 1 ThumbsDown, 70.9ms\n",
      "0: 480x640 1 ThumbsDown, 70.9ms\n",
      "0: 480x640 1 ThumbsDown, 75.1ms\n",
      "0: 480x640 1 ThumbsDown, 52.5ms\n",
      "0: 480x640 1 ThumbsDown, 57.1ms\n",
      "0: 480x640 1 ThumbsDown, 53.0ms\n",
      "0: 480x640 1 ThumbsDown, 76.4ms\n",
      "0: 480x640 1 ThumbsDown, 52.8ms\n",
      "0: 480x640 1 ThumbsDown, 51.3ms\n",
      "0: 480x640 1 ThumbsDown, 54.6ms\n",
      "0: 480x640 (no detections), 67.9ms\n",
      "0: 480x640 (no detections), 82.2ms\n",
      "0: 480x640 (no detections), 60.9ms\n",
      "0: 480x640 (no detections), 51.5ms\n",
      "0: 480x640 (no detections), 55.1ms\n",
      "0: 480x640 (no detections), 52.6ms\n",
      "0: 480x640 (no detections), 70.3ms\n",
      "0: 480x640 (no detections), 52.8ms\n",
      "0: 480x640 (no detections), 54.5ms\n",
      "0: 480x640 (no detections), 81.2ms\n",
      "0: 480x640 (no detections), 53.6ms\n",
      "0: 480x640 (no detections), 54.4ms\n",
      "0: 480x640 (no detections), 54.3ms\n",
      "0: 480x640 (no detections), 51.6ms\n",
      "0: 480x640 (no detections), 50.1ms\n",
      "0: 480x640 (no detections), 72.4ms\n",
      "0: 480x640 (no detections), 56.8ms\n",
      "0: 480x640 (no detections), 76.4ms\n",
      "0: 480x640 (no detections), 54.7ms\n",
      "0: 480x640 (no detections), 52.3ms\n",
      "0: 480x640 (no detections), 53.4ms\n",
      "WARNING  Waiting for stream 0\n",
      "0: 480x640 1 ThumbsUp, 53.4ms\n",
      "0: 480x640 1 ThumbsUp, 51.3ms\n",
      "0: 480x640 (no detections), 50.0ms\n",
      "0: 480x640 (no detections), 79.0ms\n",
      "0: 480x640 1 ThumbsUp, 58.2ms\n",
      "0: 480x640 (no detections), 53.5ms\n",
      "0: 480x640 (no detections), 52.4ms\n",
      "0: 480x640 (no detections), 56.1ms\n",
      "0: 480x640 (no detections), 68.6ms\n",
      "0: 480x640 (no detections), 62.8ms\n",
      "0: 480x640 (no detections), 51.4ms\n",
      "WARNING  Waiting for stream 0\n",
      "0: 480x640 (no detections), 53.8ms\n",
      "0: 480x640 (no detections), 59.2ms\n",
      "0: 480x640 (no detections), 81.4ms\n",
      "0: 480x640 (no detections), 72.9ms\n",
      "0: 480x640 (no detections), 64.1ms\n",
      "0: 480x640 (no detections), 63.2ms\n",
      "0: 480x640 1 ThumbsDown, 56.8ms\n",
      "0: 480x640 1 ThumbsDown, 51.1ms\n",
      "0: 480x640 (no detections), 55.9ms\n",
      "0: 480x640 1 ThumbsDown, 51.3ms\n",
      "0: 480x640 1 ThumbsDown, 56.1ms\n",
      "0: 480x640 1 ThumbsDown, 73.5ms\n",
      "0: 480x640 1 ThumbsDown, 83.6ms\n",
      "0: 480x640 1 ThumbsDown, 76.4ms\n",
      "0: 480x640 1 ThumbsDown, 67.6ms\n",
      "0: 480x640 1 ThumbsDown, 51.9ms\n",
      "WARNING  Waiting for stream 0\n",
      "0: 480x640 1 ThumbsDown, 53.8ms\n",
      "0: 480x640 (no detections), 52.6ms\n",
      "0: 480x640 (no detections), 55.3ms\n",
      "0: 480x640 (no detections), 66.8ms\n",
      "0: 480x640 (no detections), 72.4ms\n",
      "0: 480x640 (no detections), 77.1ms\n",
      "0: 480x640 (no detections), 55.2ms\n",
      "0: 480x640 (no detections), 66.1ms\n",
      "0: 480x640 (no detections), 53.9ms\n",
      "0: 480x640 (no detections), 52.5ms\n",
      "0: 480x640 (no detections), 53.8ms\n",
      "WARNING  Waiting for stream 0\n",
      "0: 480x640 (no detections), 54.6ms\n",
      "0: 480x640 (no detections), 55.6ms\n",
      "0: 480x640 (no detections), 61.3ms\n",
      "0: 480x640 (no detections), 57.6ms\n",
      "0: 480x640 (no detections), 55.6ms\n",
      "0: 480x640 (no detections), 62.0ms\n",
      "0: 480x640 (no detections), 51.5ms\n",
      "0: 480x640 (no detections), 53.8ms\n",
      "0: 480x640 1 LiveLong, 51.7ms\n",
      "0: 480x640 1 LiveLong, 55.2ms\n",
      "0: 480x640 (no detections), 65.0ms\n",
      "0: 480x640 (no detections), 61.5ms\n",
      "0: 480x640 (no detections), 71.0ms\n",
      "0: 480x640 (no detections), 67.8ms\n",
      "0: 480x640 1 LiveLong, 66.5ms\n",
      "0: 480x640 1 LiveLong, 53.9ms\n",
      "0: 480x640 1 LiveLong, 64.9ms\n",
      "0: 480x640 (no detections), 51.9ms\n",
      "0: 480x640 1 LiveLong, 55.0ms\n",
      "0: 480x640 (no detections), 58.0ms\n",
      "0: 480x640 1 LiveLong, 55.9ms\n",
      "0: 480x640 1 LiveLong, 56.8ms\n",
      "0: 480x640 (no detections), 54.6ms\n",
      "0: 480x640 (no detections), 62.0ms\n",
      "0: 480x640 (no detections), 55.3ms\n",
      "0: 480x640 (no detections), 52.1ms\n",
      "WARNING  Waiting for stream 0\n",
      "0: 480x640 (no detections), 55.0ms\n",
      "0: 480x640 1 LiveLong, 82.7ms\n",
      "0: 480x640 (no detections), 65.3ms\n",
      "0: 480x640 1 LiveLong, 55.1ms\n",
      "0: 480x640 1 LiveLong, 55.7ms\n",
      "0: 480x640 1 LiveLong, 52.9ms\n",
      "0: 480x640 1 LiveLong, 70.3ms\n",
      "0: 480x640 1 LiveLong, 51.2ms\n",
      "0: 480x640 1 LiveLong, 54.8ms\n",
      "0: 480x640 (no detections), 61.6ms\n",
      "0: 480x640 (no detections), 54.9ms\n",
      "0: 480x640 1 LiveLong, 55.4ms\n",
      "0: 480x640 1 LiveLong, 52.6ms\n",
      "0: 480x640 1 LiveLong, 52.2ms\n",
      "WARNING  Waiting for stream 0\n",
      "0: 480x640 1 LiveLong, 57.0ms\n",
      "0: 480x640 (no detections), 75.9ms\n",
      "0: 480x640 (no detections), 56.2ms\n",
      "0: 480x640 1 LiveLong, 58.7ms\n",
      "0: 480x640 1 LiveLong, 60.2ms\n",
      "0: 480x640 1 LiveLong, 55.2ms\n",
      "0: 480x640 1 LiveLong, 53.3ms\n",
      "0: 480x640 1 LiveLong, 52.9ms\n",
      "0: 480x640 1 LiveLong, 50.4ms\n",
      "0: 480x640 1 LiveLong, 53.1ms\n",
      "0: 480x640 1 LiveLong, 76.0ms\n",
      "0: 480x640 1 LiveLong, 71.6ms\n",
      "0: 480x640 1 LiveLong, 78.5ms\n",
      "0: 480x640 1 LiveLong, 68.7ms\n",
      "0: 480x640 1 LiveLong, 72.0ms\n",
      "0: 480x640 1 LiveLong, 69.9ms\n",
      "0: 480x640 1 LiveLong, 77.0ms\n",
      "0: 480x640 1 LiveLong, 70.6ms\n",
      "0: 480x640 1 LiveLong, 75.9ms\n",
      "0: 480x640 1 LiveLong, 90.7ms\n",
      "0: 480x640 1 LiveLong, 83.3ms\n",
      "0: 480x640 1 LiveLong, 82.5ms\n",
      "0: 480x640 1 LiveLong, 72.8ms\n",
      "0: 480x640 1 LiveLong, 78.8ms\n",
      "0: 480x640 1 LiveLong, 76.3ms\n",
      "0: 480x640 1 LiveLong, 77.7ms\n",
      "0: 480x640 1 LiveLong, 87.7ms\n",
      "0: 480x640 1 LiveLong, 89.4ms\n",
      "0: 480x640 1 LiveLong, 78.1ms\n",
      "0: 480x640 1 LiveLong, 83.7ms\n",
      "0: 480x640 1 LiveLong, 86.3ms\n",
      "0: 480x640 1 LiveLong, 76.3ms\n",
      "0: 480x640 1 LiveLong, 63.2ms\n",
      "0: 480x640 1 LiveLong, 51.3ms\n",
      "0: 480x640 1 LiveLong, 53.4ms\n",
      "0: 480x640 1 LiveLong, 52.8ms\n",
      "0: 480x640 1 LiveLong, 53.4ms\n",
      "0: 480x640 1 LiveLong, 58.3ms\n",
      "0: 480x640 1 LiveLong, 63.1ms\n",
      "0: 480x640 1 LiveLong, 53.6ms\n",
      "0: 480x640 1 LiveLong, 71.5ms\n",
      "0: 480x640 1 LiveLong, 81.9ms\n",
      "0: 480x640 1 LiveLong, 75.1ms\n",
      "0: 480x640 1 LiveLong, 60.5ms\n",
      "0: 480x640 1 LiveLong, 52.0ms\n",
      "0: 480x640 1 LiveLong, 56.2ms\n",
      "0: 480x640 1 LiveLong, 59.2ms\n",
      "0: 480x640 1 LiveLong, 66.0ms\n",
      "0: 480x640 1 LiveLong, 52.4ms\n",
      "0: 480x640 1 LiveLong, 56.6ms\n",
      "0: 480x640 1 LiveLong, 71.5ms\n",
      "0: 480x640 1 LiveLong, 51.6ms\n",
      "0: 480x640 1 LiveLong, 52.7ms\n",
      "0: 480x640 1 LiveLong, 57.4ms\n",
      "0: 480x640 1 LiveLong, 56.2ms\n",
      "0: 480x640 1 LiveLong, 76.2ms\n",
      "0: 480x640 1 LiveLong, 52.3ms\n",
      "0: 480x640 1 LiveLong, 53.7ms\n",
      "0: 480x640 1 LiveLong, 55.4ms\n",
      "0: 480x640 1 LiveLong, 63.1ms\n",
      "0: 480x640 1 LiveLong, 80.5ms\n",
      "0: 480x640 1 LiveLong, 79.8ms\n",
      "0: 480x640 1 LiveLong, 80.7ms\n",
      "0: 480x640 1 LiveLong, 60.6ms\n",
      "0: 480x640 1 LiveLong, 59.4ms\n",
      "0: 480x640 1 LiveLong, 55.0ms\n",
      "0: 480x640 1 LiveLong, 54.7ms\n",
      "0: 480x640 1 LiveLong, 56.0ms\n",
      "0: 480x640 1 LiveLong, 60.4ms\n",
      "0: 480x640 1 LiveLong, 56.1ms\n",
      "0: 480x640 1 LiveLong, 56.8ms\n",
      "0: 480x640 1 LiveLong, 56.8ms\n",
      "0: 480x640 1 LiveLong, 66.5ms\n",
      "0: 480x640 1 LiveLong, 63.0ms\n",
      "0: 480x640 (no detections), 68.1ms\n",
      "0: 480x640 (no detections), 57.6ms\n",
      "0: 480x640 (no detections), 52.6ms\n",
      "0: 480x640 (no detections), 67.3ms\n",
      "0: 480x640 (no detections), 58.0ms\n",
      "0: 480x640 (no detections), 56.8ms\n",
      "0: 480x640 (no detections), 70.5ms\n",
      "0: 480x640 1 LiveLong, 54.0ms\n",
      "0: 480x640 (no detections), 50.6ms\n",
      "0: 480x640 1 LiveLong, 58.9ms\n",
      "0: 480x640 1 LiveLong, 55.1ms\n",
      "0: 480x640 1 LiveLong, 55.2ms\n",
      "0: 480x640 1 LiveLong, 75.6ms\n",
      "0: 480x640 1 LiveLong, 84.5ms\n",
      "0: 480x640 1 LiveLong, 72.3ms\n",
      "0: 480x640 1 LiveLong, 82.5ms\n",
      "0: 480x640 1 LiveLong, 53.8ms\n",
      "0: 480x640 1 LiveLong, 53.4ms\n",
      "0: 480x640 1 LiveLong, 54.0ms\n",
      "0: 480x640 1 LiveLong, 53.3ms\n",
      "0: 480x640 1 LiveLong, 52.8ms\n",
      "0: 480x640 (no detections), 62.5ms\n",
      "0: 480x640 (no detections), 77.3ms\n",
      "0: 480x640 (no detections), 94.4ms\n",
      "0: 480x640 (no detections), 88.6ms\n",
      "0: 480x640 (no detections), 56.4ms\n",
      "0: 480x640 (no detections), 54.7ms\n",
      "0: 480x640 1 LiveLong, 57.4ms\n",
      "0: 480x640 1 LiveLong, 53.9ms\n",
      "0: 480x640 1 LiveLong, 52.9ms\n",
      "0: 480x640 1 LiveLong, 55.8ms\n",
      "0: 480x640 1 LiveLong, 58.2ms\n",
      "0: 480x640 1 LiveLong, 70.2ms\n",
      "0: 480x640 1 LiveLong, 75.3ms\n",
      "0: 480x640 1 LiveLong, 54.1ms\n",
      "0: 480x640 1 LiveLong, 55.0ms\n",
      "0: 480x640 1 LiveLong, 50.9ms\n",
      "0: 480x640 1 LiveLong, 54.0ms\n",
      "0: 480x640 1 LiveLong, 58.4ms\n",
      "0: 480x640 1 LiveLong, 57.5ms\n",
      "0: 480x640 1 LiveLong, 70.4ms\n",
      "0: 480x640 1 LiveLong, 52.5ms\n",
      "0: 480x640 1 LiveLong, 76.1ms\n",
      "0: 480x640 1 LiveLong, 56.9ms\n",
      "0: 480x640 1 LiveLong, 52.3ms\n",
      "0: 480x640 1 LiveLong, 54.9ms\n",
      "0: 480x640 1 LiveLong, 54.9ms\n",
      "0: 480x640 1 LiveLong, 58.4ms\n",
      "0: 480x640 1 LiveLong, 68.3ms\n",
      "0: 480x640 1 LiveLong, 54.3ms\n",
      "0: 480x640 1 LiveLong, 52.0ms\n",
      "0: 480x640 1 LiveLong, 77.1ms\n",
      "0: 480x640 1 LiveLong, 51.6ms\n",
      "0: 480x640 1 LiveLong, 54.2ms\n",
      "0: 480x640 1 LiveLong, 53.5ms\n",
      "0: 480x640 1 LiveLong, 55.9ms\n",
      "0: 480x640 1 LiveLong, 67.6ms\n",
      "0: 480x640 1 LiveLong, 52.8ms\n",
      "0: 480x640 1 LiveLong, 52.2ms\n",
      "0: 480x640 1 LiveLong, 57.3ms\n",
      "0: 480x640 1 LiveLong, 69.9ms\n",
      "0: 480x640 1 LiveLong, 51.6ms\n",
      "0: 480x640 1 LiveLong, 58.3ms\n",
      "0: 480x640 1 LiveLong, 56.1ms\n",
      "0: 480x640 1 LiveLong, 67.3ms\n",
      "0: 480x640 1 LiveLong, 56.9ms\n",
      "0: 480x640 1 LiveLong, 50.2ms\n",
      "0: 480x640 1 LiveLong, 64.4ms\n",
      "0: 480x640 1 LiveLong, 51.7ms\n",
      "0: 480x640 1 LiveLong, 69.5ms\n",
      "0: 480x640 1 LiveLong, 68.2ms\n",
      "0: 480x640 1 LiveLong, 72.7ms\n",
      "0: 480x640 (no detections), 78.0ms\n",
      "0: 480x640 (no detections), 77.2ms\n",
      "0: 480x640 (no detections), 72.1ms\n",
      "0: 480x640 (no detections), 63.9ms\n",
      "0: 480x640 (no detections), 53.9ms\n",
      "WARNING  Waiting for stream 0\n",
      "0: 480x640 (no detections), 57.5ms\n",
      "0: 480x640 (no detections), 65.9ms\n",
      "0: 480x640 (no detections), 53.7ms\n",
      "0: 480x640 (no detections), 91.8ms\n",
      "0: 480x640 (no detections), 77.0ms\n",
      "0: 480x640 (no detections), 67.7ms\n",
      "0: 480x640 (no detections), 80.8ms\n",
      "0: 480x640 (no detections), 62.1ms\n",
      "0: 480x640 (no detections), 53.5ms\n",
      "0: 480x640 (no detections), 61.8ms\n",
      "0: 480x640 (no detections), 54.3ms\n",
      "0: 480x640 (no detections), 54.5ms\n",
      "0: 480x640 (no detections), 71.2ms\n",
      "0: 480x640 (no detections), 101.0ms\n",
      "0: 480x640 (no detections), 100.3ms\n",
      "0: 480x640 (no detections), 79.6ms\n",
      "0: 480x640 (no detections), 66.3ms\n",
      "0: 480x640 (no detections), 54.3ms\n",
      "0: 480x640 (no detections), 57.1ms\n",
      "0: 480x640 (no detections), 52.8ms\n",
      "0: 480x640 (no detections), 54.6ms\n",
      "0: 480x640 (no detections), 66.7ms\n",
      "0: 480x640 (no detections), 70.9ms\n",
      "0: 480x640 (no detections), 89.9ms\n",
      "0: 480x640 (no detections), 76.2ms\n",
      "0: 480x640 (no detections), 62.8ms\n",
      "0: 480x640 (no detections), 71.8ms\n",
      "0: 480x640 (no detections), 66.3ms\n",
      "0: 480x640 (no detections), 59.8ms\n",
      "0: 480x640 (no detections), 62.5ms\n",
      "0: 480x640 (no detections), 82.0ms\n",
      "0: 480x640 (no detections), 132.8ms\n",
      "0: 480x640 (no detections), 107.6ms\n",
      "0: 480x640 (no detections), 106.6ms\n",
      "0: 480x640 (no detections), 110.4ms\n",
      "0: 480x640 (no detections), 104.6ms\n",
      "0: 480x640 (no detections), 106.0ms\n",
      "0: 480x640 1 LiveLong, 101.9ms\n",
      "0: 480x640 (no detections), 90.9ms\n",
      "0: 480x640 (no detections), 96.9ms\n",
      "0: 480x640 (no detections), 87.2ms\n",
      "0: 480x640 1 LiveLong, 81.3ms\n",
      "0: 480x640 1 LiveLong, 75.3ms\n",
      "0: 480x640 1 LiveLong, 87.0ms\n",
      "0: 480x640 1 LiveLong, 79.7ms\n",
      "0: 480x640 (no detections), 88.3ms\n",
      "0: 480x640 (no detections), 77.4ms\n",
      "0: 480x640 1 LiveLong, 98.7ms\n",
      "0: 480x640 1 LiveLong, 89.2ms\n",
      "0: 480x640 1 LiveLong, 83.8ms\n",
      "0: 480x640 1 LiveLong, 89.3ms\n",
      "0: 480x640 1 LiveLong, 86.9ms\n",
      "0: 480x640 1 LiveLong, 88.3ms\n",
      "0: 480x640 1 LiveLong, 83.2ms\n",
      "0: 480x640 1 LiveLong, 78.6ms\n",
      "0: 480x640 1 LiveLong, 76.9ms\n",
      "0: 480x640 1 LiveLong, 85.1ms\n",
      "0: 480x640 (no detections), 91.1ms\n",
      "0: 480x640 (no detections), 86.6ms\n",
      "0: 480x640 (no detections), 81.6ms\n",
      "0: 480x640 (no detections), 116.3ms\n",
      "0: 480x640 (no detections), 87.5ms\n",
      "0: 480x640 (no detections), 54.3ms\n",
      "0: 480x640 (no detections), 56.5ms\n",
      "0: 480x640 (no detections), 61.5ms\n",
      "0: 480x640 (no detections), 71.9ms\n",
      "0: 480x640 (no detections), 53.6ms\n",
      "0: 480x640 (no detections), 70.4ms\n",
      "0: 480x640 (no detections), 54.9ms\n",
      "0: 480x640 (no detections), 52.9ms\n",
      "0: 480x640 (no detections), 54.6ms\n",
      "0: 480x640 (no detections), 54.3ms\n",
      "0: 480x640 (no detections), 59.7ms\n",
      "0: 480x640 (no detections), 69.2ms\n",
      "0: 480x640 (no detections), 53.7ms\n",
      "0: 480x640 (no detections), 56.0ms\n",
      "0: 480x640 (no detections), 77.6ms\n",
      "0: 480x640 (no detections), 70.2ms\n",
      "0: 480x640 (no detections), 77.6ms\n",
      "0: 480x640 (no detections), 77.2ms\n",
      "0: 480x640 (no detections), 94.9ms\n",
      "0: 480x640 (no detections), 97.9ms\n",
      "0: 480x640 (no detections), 64.3ms\n",
      "0: 480x640 (no detections), 66.9ms\n",
      "0: 480x640 (no detections), 65.0ms\n",
      "0: 480x640 (no detections), 69.7ms\n",
      "0: 480x640 (no detections), 55.0ms\n",
      "0: 480x640 (no detections), 56.7ms\n",
      "0: 480x640 (no detections), 65.7ms\n",
      "0: 480x640 (no detections), 77.8ms\n",
      "0: 480x640 (no detections), 74.6ms\n",
      "0: 480x640 (no detections), 74.7ms\n",
      "0: 480x640 (no detections), 70.4ms\n",
      "0: 480x640 (no detections), 67.3ms\n",
      "0: 480x640 (no detections), 78.2ms\n",
      "0: 480x640 (no detections), 81.1ms\n",
      "0: 480x640 (no detections), 80.6ms\n",
      "0: 480x640 (no detections), 78.6ms\n",
      "0: 480x640 (no detections), 71.1ms\n",
      "0: 480x640 (no detections), 87.5ms\n",
      "0: 480x640 (no detections), 80.5ms\n",
      "0: 480x640 (no detections), 60.8ms\n",
      "0: 480x640 (no detections), 64.4ms\n",
      "0: 480x640 (no detections), 58.6ms\n",
      "0: 480x640 (no detections), 59.5ms\n",
      "0: 480x640 (no detections), 78.8ms\n",
      "0: 480x640 (no detections), 82.5ms\n",
      "0: 480x640 (no detections), 91.8ms\n",
      "0: 480x640 (no detections), 59.3ms\n",
      "0: 480x640 (no detections), 57.3ms\n",
      "0: 480x640 (no detections), 61.1ms\n",
      "0: 480x640 (no detections), 56.8ms\n",
      "0: 480x640 (no detections), 62.4ms\n",
      "0: 480x640 (no detections), 57.8ms\n",
      "0: 480x640 (no detections), 74.2ms\n",
      "0: 480x640 (no detections), 87.7ms\n",
      "0: 480x640 (no detections), 67.4ms\n",
      "0: 480x640 (no detections), 59.3ms\n",
      "0: 480x640 (no detections), 65.1ms\n",
      "0: 480x640 (no detections), 63.8ms\n",
      "0: 480x640 (no detections), 60.3ms\n",
      "0: 480x640 (no detections), 60.9ms\n",
      "0: 480x640 (no detections), 67.1ms\n",
      "0: 480x640 (no detections), 101.9ms\n",
      "0: 480x640 (no detections), 81.0ms\n",
      "0: 480x640 (no detections), 78.9ms\n",
      "0: 480x640 (no detections), 65.4ms\n",
      "0: 480x640 (no detections), 63.6ms\n",
      "0: 480x640 (no detections), 56.3ms\n",
      "0: 480x640 (no detections), 53.6ms\n",
      "0: 480x640 (no detections), 57.7ms\n",
      "0: 480x640 (no detections), 64.6ms\n",
      "0: 480x640 (no detections), 71.0ms\n",
      "0: 480x640 (no detections), 74.9ms\n",
      "0: 480x640 (no detections), 75.6ms\n",
      "0: 480x640 (no detections), 61.8ms\n",
      "0: 480x640 (no detections), 62.2ms\n",
      "0: 480x640 (no detections), 53.5ms\n",
      "0: 480x640 (no detections), 56.7ms\n",
      "0: 480x640 (no detections), 57.5ms\n",
      "0: 480x640 (no detections), 79.8ms\n",
      "0: 480x640 (no detections), 56.3ms\n",
      "0: 480x640 (no detections), 80.2ms\n",
      "0: 480x640 (no detections), 77.7ms\n",
      "0: 480x640 (no detections), 53.7ms\n",
      "0: 480x640 (no detections), 53.4ms\n",
      "0: 480x640 (no detections), 55.4ms\n",
      "0: 480x640 (no detections), 87.7ms\n",
      "0: 480x640 (no detections), 93.1ms\n",
      "0: 480x640 (no detections), 64.5ms\n",
      "0: 480x640 (no detections), 58.4ms\n",
      "0: 480x640 (no detections), 74.8ms\n",
      "0: 480x640 (no detections), 59.2ms\n",
      "0: 480x640 (no detections), 70.1ms\n",
      "0: 480x640 (no detections), 78.2ms\n",
      "0: 480x640 (no detections), 78.2ms\n",
      "0: 480x640 (no detections), 91.5ms\n",
      "0: 480x640 (no detections), 97.6ms\n",
      "0: 480x640 (no detections), 87.5ms\n",
      "0: 480x640 (no detections), 91.4ms\n",
      "0: 480x640 (no detections), 82.8ms\n",
      "0: 480x640 (no detections), 83.3ms\n",
      "0: 480x640 (no detections), 85.6ms\n",
      "0: 480x640 (no detections), 59.8ms\n",
      "0: 480x640 (no detections), 62.9ms\n",
      "0: 480x640 (no detections), 101.3ms\n",
      "0: 480x640 (no detections), 124.6ms\n",
      "0: 480x640 (no detections), 111.1ms\n",
      "0: 480x640 (no detections), 84.2ms\n",
      "0: 480x640 (no detections), 59.5ms\n",
      "0: 480x640 (no detections), 62.9ms\n",
      "0: 480x640 (no detections), 65.0ms\n",
      "0: 480x640 (no detections), 78.6ms\n",
      "0: 480x640 (no detections), 67.4ms\n",
      "0: 480x640 (no detections), 81.8ms\n",
      "0: 480x640 (no detections), 63.6ms\n",
      "0: 480x640 (no detections), 69.6ms\n",
      "0: 480x640 (no detections), 71.1ms\n",
      "0: 480x640 (no detections), 56.0ms\n",
      "0: 480x640 (no detections), 57.2ms\n",
      "0: 480x640 (no detections), 87.7ms\n",
      "0: 480x640 (no detections), 89.5ms\n",
      "0: 480x640 (no detections), 82.0ms\n",
      "0: 480x640 (no detections), 82.3ms\n",
      "0: 480x640 (no detections), 78.1ms\n",
      "0: 480x640 (no detections), 67.3ms\n",
      "0: 480x640 (no detections), 74.7ms\n",
      "0: 480x640 (no detections), 61.3ms\n",
      "0: 480x640 (no detections), 81.6ms\n",
      "0: 480x640 (no detections), 100.0ms\n",
      "0: 480x640 (no detections), 101.8ms\n",
      "0: 480x640 (no detections), 81.8ms\n",
      "0: 480x640 (no detections), 59.4ms\n",
      "0: 480x640 (no detections), 56.1ms\n",
      "0: 480x640 (no detections), 70.4ms\n",
      "0: 480x640 (no detections), 63.1ms\n",
      "0: 480x640 (no detections), 62.1ms\n",
      "0: 480x640 (no detections), 61.2ms\n",
      "0: 480x640 (no detections), 79.2ms\n",
      "0: 480x640 (no detections), 84.9ms\n",
      "0: 480x640 (no detections), 68.0ms\n",
      "0: 480x640 (no detections), 58.5ms\n",
      "0: 480x640 (no detections), 58.2ms\n",
      "0: 480x640 (no detections), 56.0ms\n",
      "0: 480x640 (no detections), 67.1ms\n",
      "0: 480x640 (no detections), 72.6ms\n",
      "0: 480x640 (no detections), 92.3ms\n",
      "0: 480x640 (no detections), 65.0ms\n",
      "0: 480x640 (no detections), 79.8ms\n",
      "0: 480x640 (no detections), 56.3ms\n",
      "0: 480x640 (no detections), 56.1ms\n",
      "0: 480x640 (no detections), 52.1ms\n",
      "0: 480x640 (no detections), 55.2ms\n",
      "0: 480x640 (no detections), 65.8ms\n",
      "0: 480x640 (no detections), 84.0ms\n",
      "0: 480x640 (no detections), 84.9ms\n",
      "0: 480x640 (no detections), 66.4ms\n",
      "0: 480x640 (no detections), 62.4ms\n",
      "0: 480x640 (no detections), 85.3ms\n",
      "0: 480x640 (no detections), 54.7ms\n",
      "0: 480x640 (no detections), 54.3ms\n"
     ]
    },
    {
     "ename": "KeyboardInterrupt",
     "evalue": "",
     "output_type": "error",
     "traceback": [
      "\u001b[1;31m---------------------------------------------------------------------------\u001b[0m",
      "\u001b[1;31mKeyboardInterrupt\u001b[0m                         Traceback (most recent call last)",
      "Cell \u001b[1;32mIn[19], line 1\u001b[0m\n\u001b[1;32m----> 1\u001b[0m \u001b[43mmodel\u001b[49m\u001b[38;5;241;43m.\u001b[39;49m\u001b[43mpredict\u001b[49m\u001b[43m(\u001b[49m\u001b[43msource\u001b[49m\u001b[38;5;241;43m=\u001b[39;49m\u001b[38;5;241;43m0\u001b[39;49m\u001b[43m,\u001b[49m\u001b[43m \u001b[49m\u001b[43mshow\u001b[49m\u001b[38;5;241;43m=\u001b[39;49m\u001b[38;5;28;43;01mTrue\u001b[39;49;00m\u001b[43m,\u001b[49m\u001b[43m \u001b[49m\u001b[43mconf\u001b[49m\u001b[38;5;241;43m=\u001b[39;49m\u001b[38;5;241;43m0.5\u001b[39;49m\u001b[43m)\u001b[49m\n",
      "File \u001b[1;32m~\\anaconda3\\envs\\tfod\\lib\\site-packages\\ultralytics\\engine\\model.py:560\u001b[0m, in \u001b[0;36mModel.predict\u001b[1;34m(self, source, stream, predictor, **kwargs)\u001b[0m\n\u001b[0;32m    558\u001b[0m \u001b[38;5;28;01mif\u001b[39;00m prompts \u001b[38;5;129;01mand\u001b[39;00m \u001b[38;5;28mhasattr\u001b[39m(\u001b[38;5;28mself\u001b[39m\u001b[38;5;241m.\u001b[39mpredictor, \u001b[38;5;124m\"\u001b[39m\u001b[38;5;124mset_prompts\u001b[39m\u001b[38;5;124m\"\u001b[39m):  \u001b[38;5;66;03m# for SAM-type models\u001b[39;00m\n\u001b[0;32m    559\u001b[0m     \u001b[38;5;28mself\u001b[39m\u001b[38;5;241m.\u001b[39mpredictor\u001b[38;5;241m.\u001b[39mset_prompts(prompts)\n\u001b[1;32m--> 560\u001b[0m \u001b[38;5;28;01mreturn\u001b[39;00m \u001b[38;5;28mself\u001b[39m\u001b[38;5;241m.\u001b[39mpredictor\u001b[38;5;241m.\u001b[39mpredict_cli(source\u001b[38;5;241m=\u001b[39msource) \u001b[38;5;28;01mif\u001b[39;00m is_cli \u001b[38;5;28;01melse\u001b[39;00m \u001b[38;5;28;43mself\u001b[39;49m\u001b[38;5;241;43m.\u001b[39;49m\u001b[43mpredictor\u001b[49m\u001b[43m(\u001b[49m\u001b[43msource\u001b[49m\u001b[38;5;241;43m=\u001b[39;49m\u001b[43msource\u001b[49m\u001b[43m,\u001b[49m\u001b[43m \u001b[49m\u001b[43mstream\u001b[49m\u001b[38;5;241;43m=\u001b[39;49m\u001b[43mstream\u001b[49m\u001b[43m)\u001b[49m\n",
      "File \u001b[1;32m~\\anaconda3\\envs\\tfod\\lib\\site-packages\\ultralytics\\engine\\predictor.py:175\u001b[0m, in \u001b[0;36mBasePredictor.__call__\u001b[1;34m(self, source, model, stream, *args, **kwargs)\u001b[0m\n\u001b[0;32m    173\u001b[0m     \u001b[38;5;28;01mreturn\u001b[39;00m \u001b[38;5;28mself\u001b[39m\u001b[38;5;241m.\u001b[39mstream_inference(source, model, \u001b[38;5;241m*\u001b[39margs, \u001b[38;5;241m*\u001b[39m\u001b[38;5;241m*\u001b[39mkwargs)\n\u001b[0;32m    174\u001b[0m \u001b[38;5;28;01melse\u001b[39;00m:\n\u001b[1;32m--> 175\u001b[0m     \u001b[38;5;28;01mreturn\u001b[39;00m \u001b[38;5;28;43mlist\u001b[39;49m\u001b[43m(\u001b[49m\u001b[38;5;28;43mself\u001b[39;49m\u001b[38;5;241;43m.\u001b[39;49m\u001b[43mstream_inference\u001b[49m\u001b[43m(\u001b[49m\u001b[43msource\u001b[49m\u001b[43m,\u001b[49m\u001b[43m \u001b[49m\u001b[43mmodel\u001b[49m\u001b[43m,\u001b[49m\u001b[43m \u001b[49m\u001b[38;5;241;43m*\u001b[39;49m\u001b[43margs\u001b[49m\u001b[43m,\u001b[49m\u001b[43m \u001b[49m\u001b[38;5;241;43m*\u001b[39;49m\u001b[38;5;241;43m*\u001b[39;49m\u001b[43mkwargs\u001b[49m\u001b[43m)\u001b[49m\u001b[43m)\u001b[49m\n",
      "File \u001b[1;32m~\\anaconda3\\envs\\tfod\\lib\\site-packages\\torch\\utils\\_contextlib.py:57\u001b[0m, in \u001b[0;36m_wrap_generator.<locals>.generator_context\u001b[1;34m(*args, **kwargs)\u001b[0m\n\u001b[0;32m     54\u001b[0m         \u001b[38;5;28;01melse\u001b[39;00m:\n\u001b[0;32m     55\u001b[0m             \u001b[38;5;66;03m# Pass the last request to the generator and get its response\u001b[39;00m\n\u001b[0;32m     56\u001b[0m             \u001b[38;5;28;01mwith\u001b[39;00m ctx_factory():\n\u001b[1;32m---> 57\u001b[0m                 response \u001b[38;5;241m=\u001b[39m \u001b[43mgen\u001b[49m\u001b[38;5;241;43m.\u001b[39;49m\u001b[43msend\u001b[49m\u001b[43m(\u001b[49m\u001b[43mrequest\u001b[49m\u001b[43m)\u001b[49m\n\u001b[0;32m     59\u001b[0m \u001b[38;5;66;03m# We let the exceptions raised above by the generator's `.throw` or\u001b[39;00m\n\u001b[0;32m     60\u001b[0m \u001b[38;5;66;03m# `.send` methods bubble up to our caller, except for StopIteration\u001b[39;00m\n\u001b[0;32m     61\u001b[0m \u001b[38;5;28;01mexcept\u001b[39;00m \u001b[38;5;167;01mStopIteration\u001b[39;00m \u001b[38;5;28;01mas\u001b[39;00m e:\n\u001b[0;32m     62\u001b[0m     \u001b[38;5;66;03m# The generator informed us that it is done: take whatever its\u001b[39;00m\n\u001b[0;32m     63\u001b[0m     \u001b[38;5;66;03m# returned value (if any) was and indicate that we're done too\u001b[39;00m\n\u001b[0;32m     64\u001b[0m     \u001b[38;5;66;03m# by returning it (see docs for python's return-statement).\u001b[39;00m\n",
      "File \u001b[1;32m~\\anaconda3\\envs\\tfod\\lib\\site-packages\\ultralytics\\engine\\predictor.py:261\u001b[0m, in \u001b[0;36mBasePredictor.stream_inference\u001b[1;34m(self, source, model, *args, **kwargs)\u001b[0m\n\u001b[0;32m    259\u001b[0m \u001b[38;5;66;03m# Inference\u001b[39;00m\n\u001b[0;32m    260\u001b[0m \u001b[38;5;28;01mwith\u001b[39;00m profilers[\u001b[38;5;241m1\u001b[39m]:\n\u001b[1;32m--> 261\u001b[0m     preds \u001b[38;5;241m=\u001b[39m \u001b[38;5;28mself\u001b[39m\u001b[38;5;241m.\u001b[39minference(im, \u001b[38;5;241m*\u001b[39margs, \u001b[38;5;241m*\u001b[39m\u001b[38;5;241m*\u001b[39mkwargs)\n\u001b[0;32m    262\u001b[0m     \u001b[38;5;28;01mif\u001b[39;00m \u001b[38;5;28mself\u001b[39m\u001b[38;5;241m.\u001b[39margs\u001b[38;5;241m.\u001b[39membed:\n\u001b[0;32m    263\u001b[0m         \u001b[38;5;28;01myield from\u001b[39;00m [preds] \u001b[38;5;28;01mif\u001b[39;00m \u001b[38;5;28misinstance\u001b[39m(preds, torch\u001b[38;5;241m.\u001b[39mTensor) \u001b[38;5;28;01melse\u001b[39;00m preds  \u001b[38;5;66;03m# yield embedding tensors\u001b[39;00m\n",
      "File \u001b[1;32m~\\anaconda3\\envs\\tfod\\lib\\site-packages\\ultralytics\\engine\\predictor.py:145\u001b[0m, in \u001b[0;36mBasePredictor.inference\u001b[1;34m(self, im, *args, **kwargs)\u001b[0m\n\u001b[0;32m    139\u001b[0m \u001b[38;5;250m\u001b[39m\u001b[38;5;124;03m\"\"\"Runs inference on a given image using the specified model and arguments.\"\"\"\u001b[39;00m\n\u001b[0;32m    140\u001b[0m visualize \u001b[38;5;241m=\u001b[39m (\n\u001b[0;32m    141\u001b[0m     increment_path(\u001b[38;5;28mself\u001b[39m\u001b[38;5;241m.\u001b[39msave_dir \u001b[38;5;241m/\u001b[39m Path(\u001b[38;5;28mself\u001b[39m\u001b[38;5;241m.\u001b[39mbatch[\u001b[38;5;241m0\u001b[39m][\u001b[38;5;241m0\u001b[39m])\u001b[38;5;241m.\u001b[39mstem, mkdir\u001b[38;5;241m=\u001b[39m\u001b[38;5;28;01mTrue\u001b[39;00m)\n\u001b[0;32m    142\u001b[0m     \u001b[38;5;28;01mif\u001b[39;00m \u001b[38;5;28mself\u001b[39m\u001b[38;5;241m.\u001b[39margs\u001b[38;5;241m.\u001b[39mvisualize \u001b[38;5;129;01mand\u001b[39;00m (\u001b[38;5;129;01mnot\u001b[39;00m \u001b[38;5;28mself\u001b[39m\u001b[38;5;241m.\u001b[39msource_type\u001b[38;5;241m.\u001b[39mtensor)\n\u001b[0;32m    143\u001b[0m     \u001b[38;5;28;01melse\u001b[39;00m \u001b[38;5;28;01mFalse\u001b[39;00m\n\u001b[0;32m    144\u001b[0m )\n\u001b[1;32m--> 145\u001b[0m \u001b[38;5;28;01mreturn\u001b[39;00m \u001b[38;5;28mself\u001b[39m\u001b[38;5;241m.\u001b[39mmodel(im, augment\u001b[38;5;241m=\u001b[39m\u001b[38;5;28mself\u001b[39m\u001b[38;5;241m.\u001b[39margs\u001b[38;5;241m.\u001b[39maugment, visualize\u001b[38;5;241m=\u001b[39mvisualize, embed\u001b[38;5;241m=\u001b[39m\u001b[38;5;28mself\u001b[39m\u001b[38;5;241m.\u001b[39margs\u001b[38;5;241m.\u001b[39membed, \u001b[38;5;241m*\u001b[39margs, \u001b[38;5;241m*\u001b[39m\u001b[38;5;241m*\u001b[39mkwargs)\n",
      "File \u001b[1;32m~\\anaconda3\\envs\\tfod\\lib\\site-packages\\torch\\nn\\modules\\module.py:1739\u001b[0m, in \u001b[0;36mModule._wrapped_call_impl\u001b[1;34m(self, *args, **kwargs)\u001b[0m\n\u001b[0;32m   1737\u001b[0m     \u001b[38;5;28;01mreturn\u001b[39;00m \u001b[38;5;28mself\u001b[39m\u001b[38;5;241m.\u001b[39m_compiled_call_impl(\u001b[38;5;241m*\u001b[39margs, \u001b[38;5;241m*\u001b[39m\u001b[38;5;241m*\u001b[39mkwargs)  \u001b[38;5;66;03m# type: ignore[misc]\u001b[39;00m\n\u001b[0;32m   1738\u001b[0m \u001b[38;5;28;01melse\u001b[39;00m:\n\u001b[1;32m-> 1739\u001b[0m     \u001b[38;5;28;01mreturn\u001b[39;00m \u001b[38;5;28mself\u001b[39m\u001b[38;5;241m.\u001b[39m_call_impl(\u001b[38;5;241m*\u001b[39margs, \u001b[38;5;241m*\u001b[39m\u001b[38;5;241m*\u001b[39mkwargs)\n",
      "File \u001b[1;32m~\\anaconda3\\envs\\tfod\\lib\\site-packages\\torch\\nn\\modules\\module.py:1750\u001b[0m, in \u001b[0;36mModule._call_impl\u001b[1;34m(self, *args, **kwargs)\u001b[0m\n\u001b[0;32m   1745\u001b[0m \u001b[38;5;66;03m# If we don't have any hooks, we want to skip the rest of the logic in\u001b[39;00m\n\u001b[0;32m   1746\u001b[0m \u001b[38;5;66;03m# this function, and just call forward.\u001b[39;00m\n\u001b[0;32m   1747\u001b[0m \u001b[38;5;28;01mif\u001b[39;00m \u001b[38;5;129;01mnot\u001b[39;00m (\u001b[38;5;28mself\u001b[39m\u001b[38;5;241m.\u001b[39m_backward_hooks \u001b[38;5;129;01mor\u001b[39;00m \u001b[38;5;28mself\u001b[39m\u001b[38;5;241m.\u001b[39m_backward_pre_hooks \u001b[38;5;129;01mor\u001b[39;00m \u001b[38;5;28mself\u001b[39m\u001b[38;5;241m.\u001b[39m_forward_hooks \u001b[38;5;129;01mor\u001b[39;00m \u001b[38;5;28mself\u001b[39m\u001b[38;5;241m.\u001b[39m_forward_pre_hooks\n\u001b[0;32m   1748\u001b[0m         \u001b[38;5;129;01mor\u001b[39;00m _global_backward_pre_hooks \u001b[38;5;129;01mor\u001b[39;00m _global_backward_hooks\n\u001b[0;32m   1749\u001b[0m         \u001b[38;5;129;01mor\u001b[39;00m _global_forward_hooks \u001b[38;5;129;01mor\u001b[39;00m _global_forward_pre_hooks):\n\u001b[1;32m-> 1750\u001b[0m     \u001b[38;5;28;01mreturn\u001b[39;00m forward_call(\u001b[38;5;241m*\u001b[39margs, \u001b[38;5;241m*\u001b[39m\u001b[38;5;241m*\u001b[39mkwargs)\n\u001b[0;32m   1752\u001b[0m result \u001b[38;5;241m=\u001b[39m \u001b[38;5;28;01mNone\u001b[39;00m\n\u001b[0;32m   1753\u001b[0m called_always_called_hooks \u001b[38;5;241m=\u001b[39m \u001b[38;5;28mset\u001b[39m()\n",
      "File \u001b[1;32m~\\anaconda3\\envs\\tfod\\lib\\site-packages\\ultralytics\\nn\\autobackend.py:556\u001b[0m, in \u001b[0;36mAutoBackend.forward\u001b[1;34m(self, im, augment, visualize, embed)\u001b[0m\n\u001b[0;32m    554\u001b[0m \u001b[38;5;66;03m# PyTorch\u001b[39;00m\n\u001b[0;32m    555\u001b[0m \u001b[38;5;28;01mif\u001b[39;00m \u001b[38;5;28mself\u001b[39m\u001b[38;5;241m.\u001b[39mpt \u001b[38;5;129;01mor\u001b[39;00m \u001b[38;5;28mself\u001b[39m\u001b[38;5;241m.\u001b[39mnn_module:\n\u001b[1;32m--> 556\u001b[0m     y \u001b[38;5;241m=\u001b[39m \u001b[38;5;28;43mself\u001b[39;49m\u001b[38;5;241;43m.\u001b[39;49m\u001b[43mmodel\u001b[49m\u001b[43m(\u001b[49m\u001b[43mim\u001b[49m\u001b[43m,\u001b[49m\u001b[43m \u001b[49m\u001b[43maugment\u001b[49m\u001b[38;5;241;43m=\u001b[39;49m\u001b[43maugment\u001b[49m\u001b[43m,\u001b[49m\u001b[43m \u001b[49m\u001b[43mvisualize\u001b[49m\u001b[38;5;241;43m=\u001b[39;49m\u001b[43mvisualize\u001b[49m\u001b[43m,\u001b[49m\u001b[43m \u001b[49m\u001b[43membed\u001b[49m\u001b[38;5;241;43m=\u001b[39;49m\u001b[43membed\u001b[49m\u001b[43m)\u001b[49m\n\u001b[0;32m    558\u001b[0m \u001b[38;5;66;03m# TorchScript\u001b[39;00m\n\u001b[0;32m    559\u001b[0m \u001b[38;5;28;01melif\u001b[39;00m \u001b[38;5;28mself\u001b[39m\u001b[38;5;241m.\u001b[39mjit:\n",
      "File \u001b[1;32m~\\anaconda3\\envs\\tfod\\lib\\site-packages\\torch\\nn\\modules\\module.py:1739\u001b[0m, in \u001b[0;36mModule._wrapped_call_impl\u001b[1;34m(self, *args, **kwargs)\u001b[0m\n\u001b[0;32m   1737\u001b[0m     \u001b[38;5;28;01mreturn\u001b[39;00m \u001b[38;5;28mself\u001b[39m\u001b[38;5;241m.\u001b[39m_compiled_call_impl(\u001b[38;5;241m*\u001b[39margs, \u001b[38;5;241m*\u001b[39m\u001b[38;5;241m*\u001b[39mkwargs)  \u001b[38;5;66;03m# type: ignore[misc]\u001b[39;00m\n\u001b[0;32m   1738\u001b[0m \u001b[38;5;28;01melse\u001b[39;00m:\n\u001b[1;32m-> 1739\u001b[0m     \u001b[38;5;28;01mreturn\u001b[39;00m \u001b[38;5;28mself\u001b[39m\u001b[38;5;241m.\u001b[39m_call_impl(\u001b[38;5;241m*\u001b[39margs, \u001b[38;5;241m*\u001b[39m\u001b[38;5;241m*\u001b[39mkwargs)\n",
      "File \u001b[1;32m~\\anaconda3\\envs\\tfod\\lib\\site-packages\\torch\\nn\\modules\\module.py:1750\u001b[0m, in \u001b[0;36mModule._call_impl\u001b[1;34m(self, *args, **kwargs)\u001b[0m\n\u001b[0;32m   1745\u001b[0m \u001b[38;5;66;03m# If we don't have any hooks, we want to skip the rest of the logic in\u001b[39;00m\n\u001b[0;32m   1746\u001b[0m \u001b[38;5;66;03m# this function, and just call forward.\u001b[39;00m\n\u001b[0;32m   1747\u001b[0m \u001b[38;5;28;01mif\u001b[39;00m \u001b[38;5;129;01mnot\u001b[39;00m (\u001b[38;5;28mself\u001b[39m\u001b[38;5;241m.\u001b[39m_backward_hooks \u001b[38;5;129;01mor\u001b[39;00m \u001b[38;5;28mself\u001b[39m\u001b[38;5;241m.\u001b[39m_backward_pre_hooks \u001b[38;5;129;01mor\u001b[39;00m \u001b[38;5;28mself\u001b[39m\u001b[38;5;241m.\u001b[39m_forward_hooks \u001b[38;5;129;01mor\u001b[39;00m \u001b[38;5;28mself\u001b[39m\u001b[38;5;241m.\u001b[39m_forward_pre_hooks\n\u001b[0;32m   1748\u001b[0m         \u001b[38;5;129;01mor\u001b[39;00m _global_backward_pre_hooks \u001b[38;5;129;01mor\u001b[39;00m _global_backward_hooks\n\u001b[0;32m   1749\u001b[0m         \u001b[38;5;129;01mor\u001b[39;00m _global_forward_hooks \u001b[38;5;129;01mor\u001b[39;00m _global_forward_pre_hooks):\n\u001b[1;32m-> 1750\u001b[0m     \u001b[38;5;28;01mreturn\u001b[39;00m forward_call(\u001b[38;5;241m*\u001b[39margs, \u001b[38;5;241m*\u001b[39m\u001b[38;5;241m*\u001b[39mkwargs)\n\u001b[0;32m   1752\u001b[0m result \u001b[38;5;241m=\u001b[39m \u001b[38;5;28;01mNone\u001b[39;00m\n\u001b[0;32m   1753\u001b[0m called_always_called_hooks \u001b[38;5;241m=\u001b[39m \u001b[38;5;28mset\u001b[39m()\n",
      "File \u001b[1;32m~\\anaconda3\\envs\\tfod\\lib\\site-packages\\ultralytics\\nn\\tasks.py:114\u001b[0m, in \u001b[0;36mBaseModel.forward\u001b[1;34m(self, x, *args, **kwargs)\u001b[0m\n\u001b[0;32m    112\u001b[0m \u001b[38;5;28;01mif\u001b[39;00m \u001b[38;5;28misinstance\u001b[39m(x, \u001b[38;5;28mdict\u001b[39m):  \u001b[38;5;66;03m# for cases of training and validating while training.\u001b[39;00m\n\u001b[0;32m    113\u001b[0m     \u001b[38;5;28;01mreturn\u001b[39;00m \u001b[38;5;28mself\u001b[39m\u001b[38;5;241m.\u001b[39mloss(x, \u001b[38;5;241m*\u001b[39margs, \u001b[38;5;241m*\u001b[39m\u001b[38;5;241m*\u001b[39mkwargs)\n\u001b[1;32m--> 114\u001b[0m \u001b[38;5;28;01mreturn\u001b[39;00m \u001b[38;5;28mself\u001b[39m\u001b[38;5;241m.\u001b[39mpredict(x, \u001b[38;5;241m*\u001b[39margs, \u001b[38;5;241m*\u001b[39m\u001b[38;5;241m*\u001b[39mkwargs)\n",
      "File \u001b[1;32m~\\anaconda3\\envs\\tfod\\lib\\site-packages\\ultralytics\\nn\\tasks.py:132\u001b[0m, in \u001b[0;36mBaseModel.predict\u001b[1;34m(self, x, profile, visualize, augment, embed)\u001b[0m\n\u001b[0;32m    130\u001b[0m \u001b[38;5;28;01mif\u001b[39;00m augment:\n\u001b[0;32m    131\u001b[0m     \u001b[38;5;28;01mreturn\u001b[39;00m \u001b[38;5;28mself\u001b[39m\u001b[38;5;241m.\u001b[39m_predict_augment(x)\n\u001b[1;32m--> 132\u001b[0m \u001b[38;5;28;01mreturn\u001b[39;00m \u001b[38;5;28;43mself\u001b[39;49m\u001b[38;5;241;43m.\u001b[39;49m\u001b[43m_predict_once\u001b[49m\u001b[43m(\u001b[49m\u001b[43mx\u001b[49m\u001b[43m,\u001b[49m\u001b[43m \u001b[49m\u001b[43mprofile\u001b[49m\u001b[43m,\u001b[49m\u001b[43m \u001b[49m\u001b[43mvisualize\u001b[49m\u001b[43m,\u001b[49m\u001b[43m \u001b[49m\u001b[43membed\u001b[49m\u001b[43m)\u001b[49m\n",
      "File \u001b[1;32m~\\anaconda3\\envs\\tfod\\lib\\site-packages\\ultralytics\\nn\\tasks.py:153\u001b[0m, in \u001b[0;36mBaseModel._predict_once\u001b[1;34m(self, x, profile, visualize, embed)\u001b[0m\n\u001b[0;32m    151\u001b[0m \u001b[38;5;28;01mif\u001b[39;00m profile:\n\u001b[0;32m    152\u001b[0m     \u001b[38;5;28mself\u001b[39m\u001b[38;5;241m.\u001b[39m_profile_one_layer(m, x, dt)\n\u001b[1;32m--> 153\u001b[0m x \u001b[38;5;241m=\u001b[39m \u001b[43mm\u001b[49m\u001b[43m(\u001b[49m\u001b[43mx\u001b[49m\u001b[43m)\u001b[49m  \u001b[38;5;66;03m# run\u001b[39;00m\n\u001b[0;32m    154\u001b[0m y\u001b[38;5;241m.\u001b[39mappend(x \u001b[38;5;28;01mif\u001b[39;00m m\u001b[38;5;241m.\u001b[39mi \u001b[38;5;129;01min\u001b[39;00m \u001b[38;5;28mself\u001b[39m\u001b[38;5;241m.\u001b[39msave \u001b[38;5;28;01melse\u001b[39;00m \u001b[38;5;28;01mNone\u001b[39;00m)  \u001b[38;5;66;03m# save output\u001b[39;00m\n\u001b[0;32m    155\u001b[0m \u001b[38;5;28;01mif\u001b[39;00m visualize:\n",
      "File \u001b[1;32m~\\anaconda3\\envs\\tfod\\lib\\site-packages\\torch\\nn\\modules\\module.py:1739\u001b[0m, in \u001b[0;36mModule._wrapped_call_impl\u001b[1;34m(self, *args, **kwargs)\u001b[0m\n\u001b[0;32m   1737\u001b[0m     \u001b[38;5;28;01mreturn\u001b[39;00m \u001b[38;5;28mself\u001b[39m\u001b[38;5;241m.\u001b[39m_compiled_call_impl(\u001b[38;5;241m*\u001b[39margs, \u001b[38;5;241m*\u001b[39m\u001b[38;5;241m*\u001b[39mkwargs)  \u001b[38;5;66;03m# type: ignore[misc]\u001b[39;00m\n\u001b[0;32m   1738\u001b[0m \u001b[38;5;28;01melse\u001b[39;00m:\n\u001b[1;32m-> 1739\u001b[0m     \u001b[38;5;28;01mreturn\u001b[39;00m \u001b[38;5;28mself\u001b[39m\u001b[38;5;241m.\u001b[39m_call_impl(\u001b[38;5;241m*\u001b[39margs, \u001b[38;5;241m*\u001b[39m\u001b[38;5;241m*\u001b[39mkwargs)\n",
      "File \u001b[1;32m~\\anaconda3\\envs\\tfod\\lib\\site-packages\\torch\\nn\\modules\\module.py:1750\u001b[0m, in \u001b[0;36mModule._call_impl\u001b[1;34m(self, *args, **kwargs)\u001b[0m\n\u001b[0;32m   1745\u001b[0m \u001b[38;5;66;03m# If we don't have any hooks, we want to skip the rest of the logic in\u001b[39;00m\n\u001b[0;32m   1746\u001b[0m \u001b[38;5;66;03m# this function, and just call forward.\u001b[39;00m\n\u001b[0;32m   1747\u001b[0m \u001b[38;5;28;01mif\u001b[39;00m \u001b[38;5;129;01mnot\u001b[39;00m (\u001b[38;5;28mself\u001b[39m\u001b[38;5;241m.\u001b[39m_backward_hooks \u001b[38;5;129;01mor\u001b[39;00m \u001b[38;5;28mself\u001b[39m\u001b[38;5;241m.\u001b[39m_backward_pre_hooks \u001b[38;5;129;01mor\u001b[39;00m \u001b[38;5;28mself\u001b[39m\u001b[38;5;241m.\u001b[39m_forward_hooks \u001b[38;5;129;01mor\u001b[39;00m \u001b[38;5;28mself\u001b[39m\u001b[38;5;241m.\u001b[39m_forward_pre_hooks\n\u001b[0;32m   1748\u001b[0m         \u001b[38;5;129;01mor\u001b[39;00m _global_backward_pre_hooks \u001b[38;5;129;01mor\u001b[39;00m _global_backward_hooks\n\u001b[0;32m   1749\u001b[0m         \u001b[38;5;129;01mor\u001b[39;00m _global_forward_hooks \u001b[38;5;129;01mor\u001b[39;00m _global_forward_pre_hooks):\n\u001b[1;32m-> 1750\u001b[0m     \u001b[38;5;28;01mreturn\u001b[39;00m forward_call(\u001b[38;5;241m*\u001b[39margs, \u001b[38;5;241m*\u001b[39m\u001b[38;5;241m*\u001b[39mkwargs)\n\u001b[0;32m   1752\u001b[0m result \u001b[38;5;241m=\u001b[39m \u001b[38;5;28;01mNone\u001b[39;00m\n\u001b[0;32m   1753\u001b[0m called_always_called_hooks \u001b[38;5;241m=\u001b[39m \u001b[38;5;28mset\u001b[39m()\n",
      "File \u001b[1;32m~\\anaconda3\\envs\\tfod\\lib\\site-packages\\ultralytics\\nn\\modules\\block.py:240\u001b[0m, in \u001b[0;36mC2f.forward\u001b[1;34m(self, x)\u001b[0m\n\u001b[0;32m    238\u001b[0m y \u001b[38;5;241m=\u001b[39m \u001b[38;5;28mlist\u001b[39m(\u001b[38;5;28mself\u001b[39m\u001b[38;5;241m.\u001b[39mcv1(x)\u001b[38;5;241m.\u001b[39mchunk(\u001b[38;5;241m2\u001b[39m, \u001b[38;5;241m1\u001b[39m))\n\u001b[0;32m    239\u001b[0m y\u001b[38;5;241m.\u001b[39mextend(m(y[\u001b[38;5;241m-\u001b[39m\u001b[38;5;241m1\u001b[39m]) \u001b[38;5;28;01mfor\u001b[39;00m m \u001b[38;5;129;01min\u001b[39;00m \u001b[38;5;28mself\u001b[39m\u001b[38;5;241m.\u001b[39mm)\n\u001b[1;32m--> 240\u001b[0m \u001b[38;5;28;01mreturn\u001b[39;00m \u001b[38;5;28;43mself\u001b[39;49m\u001b[38;5;241;43m.\u001b[39;49m\u001b[43mcv2\u001b[49m\u001b[43m(\u001b[49m\u001b[43mtorch\u001b[49m\u001b[38;5;241;43m.\u001b[39;49m\u001b[43mcat\u001b[49m\u001b[43m(\u001b[49m\u001b[43my\u001b[49m\u001b[43m,\u001b[49m\u001b[43m \u001b[49m\u001b[38;5;241;43m1\u001b[39;49m\u001b[43m)\u001b[49m\u001b[43m)\u001b[49m\n",
      "File \u001b[1;32m~\\anaconda3\\envs\\tfod\\lib\\site-packages\\torch\\nn\\modules\\module.py:1739\u001b[0m, in \u001b[0;36mModule._wrapped_call_impl\u001b[1;34m(self, *args, **kwargs)\u001b[0m\n\u001b[0;32m   1737\u001b[0m     \u001b[38;5;28;01mreturn\u001b[39;00m \u001b[38;5;28mself\u001b[39m\u001b[38;5;241m.\u001b[39m_compiled_call_impl(\u001b[38;5;241m*\u001b[39margs, \u001b[38;5;241m*\u001b[39m\u001b[38;5;241m*\u001b[39mkwargs)  \u001b[38;5;66;03m# type: ignore[misc]\u001b[39;00m\n\u001b[0;32m   1738\u001b[0m \u001b[38;5;28;01melse\u001b[39;00m:\n\u001b[1;32m-> 1739\u001b[0m     \u001b[38;5;28;01mreturn\u001b[39;00m \u001b[38;5;28mself\u001b[39m\u001b[38;5;241m.\u001b[39m_call_impl(\u001b[38;5;241m*\u001b[39margs, \u001b[38;5;241m*\u001b[39m\u001b[38;5;241m*\u001b[39mkwargs)\n",
      "File \u001b[1;32m~\\anaconda3\\envs\\tfod\\lib\\site-packages\\torch\\nn\\modules\\module.py:1750\u001b[0m, in \u001b[0;36mModule._call_impl\u001b[1;34m(self, *args, **kwargs)\u001b[0m\n\u001b[0;32m   1745\u001b[0m \u001b[38;5;66;03m# If we don't have any hooks, we want to skip the rest of the logic in\u001b[39;00m\n\u001b[0;32m   1746\u001b[0m \u001b[38;5;66;03m# this function, and just call forward.\u001b[39;00m\n\u001b[0;32m   1747\u001b[0m \u001b[38;5;28;01mif\u001b[39;00m \u001b[38;5;129;01mnot\u001b[39;00m (\u001b[38;5;28mself\u001b[39m\u001b[38;5;241m.\u001b[39m_backward_hooks \u001b[38;5;129;01mor\u001b[39;00m \u001b[38;5;28mself\u001b[39m\u001b[38;5;241m.\u001b[39m_backward_pre_hooks \u001b[38;5;129;01mor\u001b[39;00m \u001b[38;5;28mself\u001b[39m\u001b[38;5;241m.\u001b[39m_forward_hooks \u001b[38;5;129;01mor\u001b[39;00m \u001b[38;5;28mself\u001b[39m\u001b[38;5;241m.\u001b[39m_forward_pre_hooks\n\u001b[0;32m   1748\u001b[0m         \u001b[38;5;129;01mor\u001b[39;00m _global_backward_pre_hooks \u001b[38;5;129;01mor\u001b[39;00m _global_backward_hooks\n\u001b[0;32m   1749\u001b[0m         \u001b[38;5;129;01mor\u001b[39;00m _global_forward_hooks \u001b[38;5;129;01mor\u001b[39;00m _global_forward_pre_hooks):\n\u001b[1;32m-> 1750\u001b[0m     \u001b[38;5;28;01mreturn\u001b[39;00m forward_call(\u001b[38;5;241m*\u001b[39margs, \u001b[38;5;241m*\u001b[39m\u001b[38;5;241m*\u001b[39mkwargs)\n\u001b[0;32m   1752\u001b[0m result \u001b[38;5;241m=\u001b[39m \u001b[38;5;28;01mNone\u001b[39;00m\n\u001b[0;32m   1753\u001b[0m called_always_called_hooks \u001b[38;5;241m=\u001b[39m \u001b[38;5;28mset\u001b[39m()\n",
      "File \u001b[1;32m~\\anaconda3\\envs\\tfod\\lib\\site-packages\\ultralytics\\nn\\modules\\conv.py:55\u001b[0m, in \u001b[0;36mConv.forward_fuse\u001b[1;34m(self, x)\u001b[0m\n\u001b[0;32m     53\u001b[0m \u001b[38;5;28;01mdef\u001b[39;00m\u001b[38;5;250m \u001b[39m\u001b[38;5;21mforward_fuse\u001b[39m(\u001b[38;5;28mself\u001b[39m, x):\n\u001b[0;32m     54\u001b[0m \u001b[38;5;250m    \u001b[39m\u001b[38;5;124;03m\"\"\"Apply convolution and activation without batch normalization.\"\"\"\u001b[39;00m\n\u001b[1;32m---> 55\u001b[0m     \u001b[38;5;28;01mreturn\u001b[39;00m \u001b[38;5;28;43mself\u001b[39;49m\u001b[38;5;241;43m.\u001b[39;49m\u001b[43mact\u001b[49m\u001b[43m(\u001b[49m\u001b[38;5;28;43mself\u001b[39;49m\u001b[38;5;241;43m.\u001b[39;49m\u001b[43mconv\u001b[49m\u001b[43m(\u001b[49m\u001b[43mx\u001b[49m\u001b[43m)\u001b[49m\u001b[43m)\u001b[49m\n",
      "File \u001b[1;32m~\\anaconda3\\envs\\tfod\\lib\\site-packages\\torch\\nn\\modules\\module.py:1739\u001b[0m, in \u001b[0;36mModule._wrapped_call_impl\u001b[1;34m(self, *args, **kwargs)\u001b[0m\n\u001b[0;32m   1737\u001b[0m     \u001b[38;5;28;01mreturn\u001b[39;00m \u001b[38;5;28mself\u001b[39m\u001b[38;5;241m.\u001b[39m_compiled_call_impl(\u001b[38;5;241m*\u001b[39margs, \u001b[38;5;241m*\u001b[39m\u001b[38;5;241m*\u001b[39mkwargs)  \u001b[38;5;66;03m# type: ignore[misc]\u001b[39;00m\n\u001b[0;32m   1738\u001b[0m \u001b[38;5;28;01melse\u001b[39;00m:\n\u001b[1;32m-> 1739\u001b[0m     \u001b[38;5;28;01mreturn\u001b[39;00m \u001b[38;5;28mself\u001b[39m\u001b[38;5;241m.\u001b[39m_call_impl(\u001b[38;5;241m*\u001b[39margs, \u001b[38;5;241m*\u001b[39m\u001b[38;5;241m*\u001b[39mkwargs)\n",
      "File \u001b[1;32m~\\anaconda3\\envs\\tfod\\lib\\site-packages\\torch\\nn\\modules\\module.py:1750\u001b[0m, in \u001b[0;36mModule._call_impl\u001b[1;34m(self, *args, **kwargs)\u001b[0m\n\u001b[0;32m   1745\u001b[0m \u001b[38;5;66;03m# If we don't have any hooks, we want to skip the rest of the logic in\u001b[39;00m\n\u001b[0;32m   1746\u001b[0m \u001b[38;5;66;03m# this function, and just call forward.\u001b[39;00m\n\u001b[0;32m   1747\u001b[0m \u001b[38;5;28;01mif\u001b[39;00m \u001b[38;5;129;01mnot\u001b[39;00m (\u001b[38;5;28mself\u001b[39m\u001b[38;5;241m.\u001b[39m_backward_hooks \u001b[38;5;129;01mor\u001b[39;00m \u001b[38;5;28mself\u001b[39m\u001b[38;5;241m.\u001b[39m_backward_pre_hooks \u001b[38;5;129;01mor\u001b[39;00m \u001b[38;5;28mself\u001b[39m\u001b[38;5;241m.\u001b[39m_forward_hooks \u001b[38;5;129;01mor\u001b[39;00m \u001b[38;5;28mself\u001b[39m\u001b[38;5;241m.\u001b[39m_forward_pre_hooks\n\u001b[0;32m   1748\u001b[0m         \u001b[38;5;129;01mor\u001b[39;00m _global_backward_pre_hooks \u001b[38;5;129;01mor\u001b[39;00m _global_backward_hooks\n\u001b[0;32m   1749\u001b[0m         \u001b[38;5;129;01mor\u001b[39;00m _global_forward_hooks \u001b[38;5;129;01mor\u001b[39;00m _global_forward_pre_hooks):\n\u001b[1;32m-> 1750\u001b[0m     \u001b[38;5;28;01mreturn\u001b[39;00m forward_call(\u001b[38;5;241m*\u001b[39margs, \u001b[38;5;241m*\u001b[39m\u001b[38;5;241m*\u001b[39mkwargs)\n\u001b[0;32m   1752\u001b[0m result \u001b[38;5;241m=\u001b[39m \u001b[38;5;28;01mNone\u001b[39;00m\n\u001b[0;32m   1753\u001b[0m called_always_called_hooks \u001b[38;5;241m=\u001b[39m \u001b[38;5;28mset\u001b[39m()\n",
      "File \u001b[1;32m~\\anaconda3\\envs\\tfod\\lib\\site-packages\\torch\\nn\\modules\\activation.py:432\u001b[0m, in \u001b[0;36mSiLU.forward\u001b[1;34m(self, input)\u001b[0m\n\u001b[0;32m    431\u001b[0m \u001b[38;5;28;01mdef\u001b[39;00m\u001b[38;5;250m \u001b[39m\u001b[38;5;21mforward\u001b[39m(\u001b[38;5;28mself\u001b[39m, \u001b[38;5;28minput\u001b[39m: Tensor) \u001b[38;5;241m-\u001b[39m\u001b[38;5;241m>\u001b[39m Tensor:\n\u001b[1;32m--> 432\u001b[0m     \u001b[38;5;28;01mreturn\u001b[39;00m \u001b[43mF\u001b[49m\u001b[38;5;241;43m.\u001b[39;49m\u001b[43msilu\u001b[49m\u001b[43m(\u001b[49m\u001b[38;5;28;43minput\u001b[39;49m\u001b[43m,\u001b[49m\u001b[43m \u001b[49m\u001b[43minplace\u001b[49m\u001b[38;5;241;43m=\u001b[39;49m\u001b[38;5;28;43mself\u001b[39;49m\u001b[38;5;241;43m.\u001b[39;49m\u001b[43minplace\u001b[49m\u001b[43m)\u001b[49m\n",
      "File \u001b[1;32m~\\anaconda3\\envs\\tfod\\lib\\site-packages\\torch\\nn\\functional.py:2379\u001b[0m, in \u001b[0;36msilu\u001b[1;34m(input, inplace)\u001b[0m\n\u001b[0;32m   2377\u001b[0m     \u001b[38;5;28;01mreturn\u001b[39;00m handle_torch_function(silu, (\u001b[38;5;28minput\u001b[39m,), \u001b[38;5;28minput\u001b[39m, inplace\u001b[38;5;241m=\u001b[39minplace)\n\u001b[0;32m   2378\u001b[0m \u001b[38;5;28;01mif\u001b[39;00m inplace:\n\u001b[1;32m-> 2379\u001b[0m     \u001b[38;5;28;01mreturn\u001b[39;00m \u001b[43mtorch\u001b[49m\u001b[38;5;241;43m.\u001b[39;49m\u001b[43m_C\u001b[49m\u001b[38;5;241;43m.\u001b[39;49m\u001b[43m_nn\u001b[49m\u001b[38;5;241;43m.\u001b[39;49m\u001b[43msilu_\u001b[49m\u001b[43m(\u001b[49m\u001b[38;5;28;43minput\u001b[39;49m\u001b[43m)\u001b[49m\n\u001b[0;32m   2380\u001b[0m \u001b[38;5;28;01mreturn\u001b[39;00m torch\u001b[38;5;241m.\u001b[39m_C\u001b[38;5;241m.\u001b[39m_nn\u001b[38;5;241m.\u001b[39msilu(\u001b[38;5;28minput\u001b[39m)\n",
      "\u001b[1;31mKeyboardInterrupt\u001b[0m: "
     ]
    }
   ],
   "source": [
    "\n",
    "model.predict(source=0, show=True, conf=0.5)\n"
   ]
  },
  {
   "cell_type": "code",
   "execution_count": null,
   "id": "2311227d-134e-4bd0-a269-3f4731dd6757",
   "metadata": {},
   "outputs": [],
   "source": []
  }
 ],
 "metadata": {
  "kernelspec": {
   "display_name": "Python (tfod)",
   "language": "python",
   "name": "tfod"
  },
  "language_info": {
   "codemirror_mode": {
    "name": "ipython",
    "version": 3
   },
   "file_extension": ".py",
   "mimetype": "text/x-python",
   "name": "python",
   "nbconvert_exporter": "python",
   "pygments_lexer": "ipython3",
   "version": "3.9.21"
  }
 },
 "nbformat": 4,
 "nbformat_minor": 5
}
